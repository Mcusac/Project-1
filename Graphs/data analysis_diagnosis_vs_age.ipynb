{
 "cells": [
  {
   "cell_type": "code",
   "execution_count": 1,
   "id": "43f85c3a",
   "metadata": {},
   "outputs": [],
   "source": [
    "import matplotlib.pyplot as plt\n",
    "import pandas as pd\n",
    "import numpy as np\n",
    "import requests\n",
    "import time\n",
    "from scipy.stats import linregress\n",
    "import scipy.stats as stats"
   ]
  },
  {
   "cell_type": "code",
   "execution_count": 2,
   "id": "58caf920",
   "metadata": {},
   "outputs": [
    {
     "data": {
      "text/html": [
       "<div>\n",
       "<style scoped>\n",
       "    .dataframe tbody tr th:only-of-type {\n",
       "        vertical-align: middle;\n",
       "    }\n",
       "\n",
       "    .dataframe tbody tr th {\n",
       "        vertical-align: top;\n",
       "    }\n",
       "\n",
       "    .dataframe thead th {\n",
       "        text-align: right;\n",
       "    }\n",
       "</style>\n",
       "<table border=\"1\" class=\"dataframe\">\n",
       "  <thead>\n",
       "    <tr style=\"text-align: right;\">\n",
       "      <th></th>\n",
       "      <th>lesion_id</th>\n",
       "      <th>image_id</th>\n",
       "      <th>dx</th>\n",
       "      <th>dx_type</th>\n",
       "      <th>age</th>\n",
       "      <th>sex</th>\n",
       "      <th>localization</th>\n",
       "    </tr>\n",
       "  </thead>\n",
       "  <tbody>\n",
       "    <tr>\n",
       "      <th>0</th>\n",
       "      <td>HAM_0000118</td>\n",
       "      <td>ISIC_0027419</td>\n",
       "      <td>bkl</td>\n",
       "      <td>histo</td>\n",
       "      <td>80.0</td>\n",
       "      <td>male</td>\n",
       "      <td>scalp</td>\n",
       "    </tr>\n",
       "    <tr>\n",
       "      <th>1</th>\n",
       "      <td>HAM_0000118</td>\n",
       "      <td>ISIC_0025030</td>\n",
       "      <td>bkl</td>\n",
       "      <td>histo</td>\n",
       "      <td>80.0</td>\n",
       "      <td>male</td>\n",
       "      <td>scalp</td>\n",
       "    </tr>\n",
       "    <tr>\n",
       "      <th>2</th>\n",
       "      <td>HAM_0002730</td>\n",
       "      <td>ISIC_0026769</td>\n",
       "      <td>bkl</td>\n",
       "      <td>histo</td>\n",
       "      <td>80.0</td>\n",
       "      <td>male</td>\n",
       "      <td>scalp</td>\n",
       "    </tr>\n",
       "    <tr>\n",
       "      <th>3</th>\n",
       "      <td>HAM_0002730</td>\n",
       "      <td>ISIC_0025661</td>\n",
       "      <td>bkl</td>\n",
       "      <td>histo</td>\n",
       "      <td>80.0</td>\n",
       "      <td>male</td>\n",
       "      <td>scalp</td>\n",
       "    </tr>\n",
       "    <tr>\n",
       "      <th>4</th>\n",
       "      <td>HAM_0001466</td>\n",
       "      <td>ISIC_0031633</td>\n",
       "      <td>bkl</td>\n",
       "      <td>histo</td>\n",
       "      <td>75.0</td>\n",
       "      <td>male</td>\n",
       "      <td>ear</td>\n",
       "    </tr>\n",
       "  </tbody>\n",
       "</table>\n",
       "</div>"
      ],
      "text/plain": [
       "     lesion_id      image_id   dx dx_type   age   sex localization\n",
       "0  HAM_0000118  ISIC_0027419  bkl   histo  80.0  male        scalp\n",
       "1  HAM_0000118  ISIC_0025030  bkl   histo  80.0  male        scalp\n",
       "2  HAM_0002730  ISIC_0026769  bkl   histo  80.0  male        scalp\n",
       "3  HAM_0002730  ISIC_0025661  bkl   histo  80.0  male        scalp\n",
       "4  HAM_0001466  ISIC_0031633  bkl   histo  75.0  male          ear"
      ]
     },
     "execution_count": 2,
     "metadata": {},
     "output_type": "execute_result"
    }
   ],
   "source": [
    "skin_cancer_df = pd.read_csv('..//Data//HAM10000_metadata.csv')\n",
    "clean_skin_df = skin_cancer_df.dropna(axis= 'rows')\n",
    "clean_skin_df = skin_cancer_df.dropna(axis= 'rows')\n",
    "clean_skin_df = clean_skin_df.loc[clean_skin_df['sex'] != 'unknown']\n",
    "clean_skin_df = clean_skin_df.loc[clean_skin_df['localization'] != 'unknown']\n",
    "clean_skin_df.head()"
   ]
  },
  {
   "cell_type": "code",
   "execution_count": null,
   "id": "ab9bf480",
   "metadata": {},
   "outputs": [],
   "source": []
  },
  {
   "cell_type": "code",
   "execution_count": 3,
   "id": "e2e5a0b1",
   "metadata": {},
   "outputs": [],
   "source": [
    "#  clean_skin_df = clean_skin_df.set_index('bkl')\n",
    "# clean_skin_df.head()\n",
    "\n",
    "to_drop = ['lesion_id',\n",
    "            'image_id',\n",
    "            'dx_type',\n",
    "           'localization',\n",
    "            'dx_type'\n",
    "          ]\n",
    "\n",
    "clean_skin_df.drop(to_drop, inplace=True, axis=1)"
   ]
  },
  {
   "cell_type": "code",
   "execution_count": 4,
   "id": "d407ad77",
   "metadata": {},
   "outputs": [
    {
     "data": {
      "text/plain": [
       "dx     age   sex   \n",
       "nv     45.0  female    575\n",
       "             male      506\n",
       "       50.0  female    492\n",
       "             male      432\n",
       "       40.0  female    401\n",
       "                      ... \n",
       "mel    5.0   male        1\n",
       "vasc   40.0  female      1\n",
       "bcc    20.0  female      1\n",
       "vasc   30.0  male        1\n",
       "akiec  30.0  male        1\n",
       "Length: 184, dtype: int64"
      ]
     },
     "execution_count": 4,
     "metadata": {},
     "output_type": "execute_result"
    }
   ],
   "source": [
    " clean_skin_df.value_counts()"
   ]
  },
  {
   "cell_type": "code",
   "execution_count": 5,
   "id": "514405d3",
   "metadata": {},
   "outputs": [
    {
     "data": {
      "text/plain": [
       "age   sex   \n",
       "70.0  male      99\n",
       "75.0  male      94\n",
       "70.0  female    84\n",
       "60.0  female    83\n",
       "80.0  male      77\n",
       "dtype: int64"
      ]
     },
     "execution_count": 5,
     "metadata": {},
     "output_type": "execute_result"
    }
   ],
   "source": [
    "\n",
    "clean_skin_df = clean_skin_df.set_index('dx')\n",
    "\n",
    "bkl_dx=clean_skin_df.loc[\"bkl\"]\n",
    "bkl=bkl_dx.value_counts()\n",
    "bkl.head()\n"
   ]
  },
  {
   "cell_type": "code",
   "execution_count": 6,
   "id": "efb274f9",
   "metadata": {},
   "outputs": [
    {
     "data": {
      "text/plain": [
       "62.418655097613886"
      ]
     },
     "execution_count": 6,
     "metadata": {},
     "output_type": "execute_result"
    }
   ],
   "source": [
    "#mean for female with Bkl diagnosis \n",
    "female_with_bkl = bkl_dx[bkl_dx[\"sex\"] == 'female']\n",
    "female_with_bkl['age'].mean()"
   ]
  },
  {
   "cell_type": "code",
   "execution_count": 7,
   "id": "cb354897",
   "metadata": {},
   "outputs": [
    {
     "data": {
      "text/plain": [
       "65.82926829268293"
      ]
     },
     "execution_count": 7,
     "metadata": {},
     "output_type": "execute_result"
    }
   ],
   "source": [
    "#mean for female with Bkl diagnosis \n",
    "male_with_bkl = bkl_dx[bkl_dx[\"sex\"] == 'male']\n",
    "male_with_bkl['age'].mean()"
   ]
  },
  {
   "cell_type": "code",
   "execution_count": 8,
   "id": "99b26f5f",
   "metadata": {},
   "outputs": [
    {
     "data": {
      "text/plain": [
       "Ttest_indResult(statistic=-3.9637425771086563, pvalue=7.905966344934406e-05)"
      ]
     },
     "execution_count": 8,
     "metadata": {},
     "output_type": "execute_result"
    }
   ],
   "source": [
    "stats.ttest_ind(female_with_bkl.age, male_with_bkl.age, equal_var=False)"
   ]
  },
  {
   "cell_type": "code",
   "execution_count": 10,
   "id": "fa51ae6d",
   "metadata": {},
   "outputs": [
    {
     "data": {
      "text/plain": [
       "age   sex   \n",
       "45.0  female    575\n",
       "      male      506\n",
       "50.0  female    492\n",
       "      male      432\n",
       "40.0  female    401\n",
       "dtype: int64"
      ]
     },
     "execution_count": 10,
     "metadata": {},
     "output_type": "execute_result"
    }
   ],
   "source": [
    "nv_dx=clean_skin_df.loc[\"nv\"]\n",
    "nv=nv_dx.value_counts()\n",
    "nv.head()"
   ]
  },
  {
   "cell_type": "code",
   "execution_count": 11,
   "id": "846c53ef",
   "metadata": {},
   "outputs": [
    {
     "data": {
      "text/plain": [
       "44.17753738466433"
      ]
     },
     "execution_count": 11,
     "metadata": {},
     "output_type": "execute_result"
    }
   ],
   "source": [
    "#mean for female with nv diagnosis \n",
    "female_with_nv = nv_dx[nv_dx[\"sex\"] == 'female']\n",
    "female_with_nv['age'].mean()"
   ]
  },
  {
   "cell_type": "code",
   "execution_count": 12,
   "id": "4f106ffb",
   "metadata": {},
   "outputs": [
    {
     "data": {
      "text/plain": [
       "48.83960573476703"
      ]
     },
     "execution_count": 12,
     "metadata": {},
     "output_type": "execute_result"
    }
   ],
   "source": [
    "#mean for female with Bkl diagnosis \n",
    "male_with_nv = nv_dx[nv_dx[\"sex\"] == 'male']\n",
    "male_with_nv['age'].mean()"
   ]
  },
  {
   "cell_type": "code",
   "execution_count": 13,
   "id": "de0255f5",
   "metadata": {},
   "outputs": [
    {
     "data": {
      "text/plain": [
       "Ttest_indResult(statistic=-12.551170922436889, pvalue=1.0191723642186528e-35)"
      ]
     },
     "execution_count": 13,
     "metadata": {},
     "output_type": "execute_result"
    }
   ],
   "source": [
    "stats.ttest_ind(female_with_nv.age, male_with_nv.age, equal_var=False)"
   ]
  },
  {
   "cell_type": "code",
   "execution_count": null,
   "id": "47f0859a",
   "metadata": {},
   "outputs": [],
   "source": []
  }
 ],
 "metadata": {
  "kernelspec": {
   "display_name": "Python 3 (ipykernel)",
   "language": "python",
   "name": "python3"
  },
  "language_info": {
   "codemirror_mode": {
    "name": "ipython",
    "version": 3
   },
   "file_extension": ".py",
   "mimetype": "text/x-python",
   "name": "python",
   "nbconvert_exporter": "python",
   "pygments_lexer": "ipython3",
   "version": "3.9.7"
  }
 },
 "nbformat": 4,
 "nbformat_minor": 5
}
