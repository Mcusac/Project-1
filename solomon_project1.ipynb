{
 "cells": [
  {
   "cell_type": "markdown",
   "id": "3d2366cc",
   "metadata": {},
   "source": [
    "## Skin Cancer Data Analysis\n",
    "\n",
    "* According to American academy of Dermatology Association, Skin cancer is the most common cancer in the United States.\n",
    "* The Association also note that skin cancer can affect anyone regardless of color.\n",
    "* We will analyse the data to determine \n",
    "* 1. Between male and female which gender is at greater risk\n",
    "* 2. What are the general anatomical parts generally affected by skin Cancer\n",
    "* 3. Identify which type of skin cell cancer is more prevelance and to which gender if not both equally.\n",
    "\n",
    "## Legend\n",
    "* The analysis includes the abbreviation of diagnosis of skin carcinoma\n",
    "* nv - melanocytic nevi\n",
    "* mel - Melanoma\n",
    "* bkl - benign keratosis-like lesions\n",
    "* bcc  - Basal cell carcinoma\n",
    "* akiec - actinic keratoses and intraepithelial carcinoma\n",
    "* vasc - vascular lesions\n",
    "* df  - dermatofibroma\n",
    "\n",
    "## Hypothesis\n",
    "\n",
    "- localization v sex\n",
    "- localization v aage\n",
    "- localization v dx\n",
    "- localization v dx_type\n",
    "\n",
    "\n",
    "\n",
    "\n",
    "\n",
    "\n",
    "\n",
    "\n",
    "\n"
   ]
  },
  {
   "cell_type": "code",
   "execution_count": 1,
   "id": "0307a6b6",
   "metadata": {},
   "outputs": [],
   "source": [
    "# import Dependencies and Setup\n",
    "import matplotlib.pyplot as plt\n",
    "import pandas as pd\n",
    "import numpy as np\n",
    "import requests\n",
    "import scipy.stats as st\n",
    "import time\n",
    "from scipy.stats import linregress\n"
   ]
  },
  {
   "cell_type": "code",
   "execution_count": 2,
   "id": "788289b9",
   "metadata": {},
   "outputs": [
    {
     "data": {
      "text/plain": [
       "lesion_id       10015\n",
       "image_id        10015\n",
       "dx              10015\n",
       "dx_type         10015\n",
       "age              9958\n",
       "sex             10015\n",
       "localization    10015\n",
       "dtype: int64"
      ]
     },
     "execution_count": 2,
     "metadata": {},
     "output_type": "execute_result"
    }
   ],
   "source": [
    "#import and read csv file\n",
    "\n",
    "skin_cancer_df = pd.read_csv('HAM10000_metadata.csv')\n",
    "skin_cancer_df.count()"
   ]
  },
  {
   "cell_type": "code",
   "execution_count": 3,
   "id": "f785bf78",
   "metadata": {},
   "outputs": [
    {
     "data": {
      "text/plain": [
       "lesion_id       9958\n",
       "image_id        9958\n",
       "dx              9958\n",
       "dx_type         9958\n",
       "age             9958\n",
       "sex             9958\n",
       "localization    9958\n",
       "dtype: int64"
      ]
     },
     "execution_count": 3,
     "metadata": {},
     "output_type": "execute_result"
    }
   ],
   "source": [
    "#clean df\n",
    "#drop nan value and drop unknown\n",
    "clean_skin_df = skin_cancer_df.dropna(axis= 'rows')\n",
    "#clean_skin_df = clean_skin_df.loc[clean_skin_df['sex'] != 'unknown']\n",
    "clean_skin_df.count()"
   ]
  },
  {
   "cell_type": "code",
   "execution_count": 4,
   "id": "1449644e",
   "metadata": {},
   "outputs": [
    {
     "data": {
      "image/png": "[encoded data removed]",
      "text/plain": [
       "<Figure size 432x288 with 1 Axes>"
      ]
     },
     "metadata": {
      "needs_background": "light"
     },
     "output_type": "display_data"
    }
   ],
   "source": [
    "#bar plot to visualize the relationship of the data in reference to sex(gender)\n",
    "clean_skin_df['sex'].value_counts().plot(kind='bar')\n",
    "plt.xlabel(\"Gender('sex')\")\n",
    "plt.ylabel(\"Number of Data Points\", size=15)\n",
    "plt.title(\"Gender per Data Point\")\n",
    "plt.grid(color = 'purple', linestyle = '--', linewidth = 0.1)\n",
    "plt.show()"
   ]
  },
  {
   "cell_type": "code",
   "execution_count": 5,
   "id": "3dd63b01",
   "metadata": {},
   "outputs": [
    {
     "data": {
      "text/html": [
       "<div>\n",
       "<style scoped>\n",
       "    .dataframe tbody tr th:only-of-type {\n",
       "        vertical-align: middle;\n",
       "    }\n",
       "\n",
       "    .dataframe tbody tr th {\n",
       "        vertical-align: top;\n",
       "    }\n",
       "\n",
       "    .dataframe thead th {\n",
       "        text-align: right;\n",
       "    }\n",
       "</style>\n",
       "<table border=\"1\" class=\"dataframe\">\n",
       "  <thead>\n",
       "    <tr style=\"text-align: right;\">\n",
       "      <th></th>\n",
       "      <th>lesion_id</th>\n",
       "      <th>image_id</th>\n",
       "      <th>dx</th>\n",
       "      <th>dx_type</th>\n",
       "      <th>age</th>\n",
       "      <th>sex</th>\n",
       "      <th>localization</th>\n",
       "    </tr>\n",
       "  </thead>\n",
       "  <tbody>\n",
       "    <tr>\n",
       "      <th>0</th>\n",
       "      <td>HAM_0000118</td>\n",
       "      <td>ISIC_0027419</td>\n",
       "      <td>bkl</td>\n",
       "      <td>histo</td>\n",
       "      <td>80.0</td>\n",
       "      <td>male</td>\n",
       "      <td>scalp</td>\n",
       "    </tr>\n",
       "    <tr>\n",
       "      <th>1</th>\n",
       "      <td>HAM_0000118</td>\n",
       "      <td>ISIC_0025030</td>\n",
       "      <td>bkl</td>\n",
       "      <td>histo</td>\n",
       "      <td>80.0</td>\n",
       "      <td>male</td>\n",
       "      <td>scalp</td>\n",
       "    </tr>\n",
       "    <tr>\n",
       "      <th>2</th>\n",
       "      <td>HAM_0002730</td>\n",
       "      <td>ISIC_0026769</td>\n",
       "      <td>bkl</td>\n",
       "      <td>histo</td>\n",
       "      <td>80.0</td>\n",
       "      <td>male</td>\n",
       "      <td>scalp</td>\n",
       "    </tr>\n",
       "    <tr>\n",
       "      <th>3</th>\n",
       "      <td>HAM_0002730</td>\n",
       "      <td>ISIC_0025661</td>\n",
       "      <td>bkl</td>\n",
       "      <td>histo</td>\n",
       "      <td>80.0</td>\n",
       "      <td>male</td>\n",
       "      <td>scalp</td>\n",
       "    </tr>\n",
       "    <tr>\n",
       "      <th>4</th>\n",
       "      <td>HAM_0001466</td>\n",
       "      <td>ISIC_0031633</td>\n",
       "      <td>bkl</td>\n",
       "      <td>histo</td>\n",
       "      <td>75.0</td>\n",
       "      <td>male</td>\n",
       "      <td>ear</td>\n",
       "    </tr>\n",
       "  </tbody>\n",
       "</table>\n",
       "</div>"
      ],
      "text/plain": [
       "     lesion_id      image_id   dx dx_type   age   sex localization\n",
       "0  HAM_0000118  ISIC_0027419  bkl   histo  80.0  male        scalp\n",
       "1  HAM_0000118  ISIC_0025030  bkl   histo  80.0  male        scalp\n",
       "2  HAM_0002730  ISIC_0026769  bkl   histo  80.0  male        scalp\n",
       "3  HAM_0002730  ISIC_0025661  bkl   histo  80.0  male        scalp\n",
       "4  HAM_0001466  ISIC_0031633  bkl   histo  75.0  male          ear"
      ]
     },
     "execution_count": 5,
     "metadata": {},
     "output_type": "execute_result"
    }
   ],
   "source": [
    "# Create a clean dataframe by removing unkown gender from the dataframe\n",
    "# Comparing the previous clean_df gender(sex) had 10 unknowns.\n",
    "clean_skin_df = skin_cancer_df.dropna(axis= 'rows')\n",
    "clean_skin_df = clean_skin_df.loc[clean_skin_df['sex'] != 'unknown']\n",
    "clean_skin_df.head()"
   ]
  },
  {
   "cell_type": "code",
   "execution_count": 6,
   "id": "16e04048",
   "metadata": {},
   "outputs": [
    {
     "name": "stdout",
     "output_type": "stream",
     "text": [
      "nv       6650\n",
      "mel      1111\n",
      "bkl      1089\n",
      "bcc       514\n",
      "akiec     327\n",
      "vasc      142\n",
      "df        115\n",
      "Name: dx, dtype: int64\n"
     ]
    }
   ],
   "source": [
    "#create new dataframe from clean df for dignosis using dx column values\n",
    "dx_clean_df = pd.DataFrame(clean_skin_df, columns = ['dx'])\n",
    "dx_clean_df = dx_clean_df['dx'].value_counts()\n",
    "print(dx_clean_df)"
   ]
  },
  {
   "cell_type": "code",
   "execution_count": 7,
   "id": "3da20ae7",
   "metadata": {},
   "outputs": [
    {
     "data": {
      "image/png": "[encoded data removed]",
      "text/plain": [
       "<Figure size 540x288 with 1 Axes>"
      ]
     },
     "metadata": {
      "needs_background": "light"
     },
     "output_type": "display_data"
    }
   ],
   "source": [
    "#plot a bar graph to show the different type of skin cancer cells\n",
    "dx_clean_df.plot(kind=\"bar\",figsize=(7.5,4))\n",
    "plt.xlabel(\"Diagnosis ('dx')\")\n",
    "plt.ylabel(\"Number of Data Points\")\n",
    "plt.title(\"Diagnosis per Cell Type\")\n",
    "plt.tight_layout()\n",
    "plt.grid(color = 'r', linestyle = '--', linewidth = 0.1)"
   ]
  },
  {
   "cell_type": "code",
   "execution_count": 8,
   "id": "68e5dbda",
   "metadata": {},
   "outputs": [
    {
     "name": "stdout",
     "output_type": "stream",
     "text": [
      "back               2190\n",
      "lower extremity    2077\n",
      "trunk              1400\n",
      "upper extremity    1116\n",
      "abdomen            1019\n",
      "face                743\n",
      "chest               405\n",
      "foot                314\n",
      "unknown             187\n",
      "neck                168\n",
      "scalp               128\n",
      "hand                 90\n",
      "ear                  56\n",
      "genital              48\n",
      "acral                 7\n",
      "Name: localization, dtype: int64\n"
     ]
    }
   ],
   "source": [
    "#create another dataframe from clean df for affected bogy anatomy using the localization column values\n",
    "loca_clean_df = pd.DataFrame(clean_skin_df, columns = ['localization'])\n",
    "\n",
    "loca_clean_df = loca_clean_df['localization'].value_counts()\n",
    "print(loca_clean_df)"
   ]
  },
  {
   "cell_type": "code",
   "execution_count": 11,
   "id": "c6152bb8",
   "metadata": {},
   "outputs": [
    {
     "data": {
      "image/png": "[encoded data removed]",
      "text/plain": [
       "<Figure size 504x360 with 1 Axes>"
      ]
     },
     "metadata": {
      "needs_background": "light"
     },
     "output_type": "display_data"
    }
   ],
   "source": [
    "#bar plot for localization\n",
    "loca_clean_df.plot(kind=\"bar\",figsize=(7,5))\n",
    "#loca_clean_df.groupby('localization')['age'].value_counts().unstack(0).plot.bar(figsize=(20,12))\n",
    "# plt.title('Age Groups vs. Sex')\n",
    "# plt.xlabel('Age Groups')\n",
    "# plt.ylabel('Sex')\n",
    "# plt.rcParams.update({'font.size': 25})\n",
    "\n",
    "\n",
    "# plt.show()\n",
    "plt.xlabel(\"Area of Malignant Localization\")\n",
    "plt.ylabel(\"Number of Data Points\")\n",
    "plt.title(\"Affected Anatomical Body Part\")\n",
    "plt.tight_layout()\n",
    "plt.grid(color = 'g', linestyle = '--', linewidth = 0.3)\n",
    "#print(f' The plot clearly demonstrate that a significant # of people have a higher chance of getting skin cancer on \n",
    "#       'the back, lower extremity,truck  ')"
   ]
  },
  {
   "cell_type": "code",
   "execution_count": null,
   "id": "df455e07",
   "metadata": {},
   "outputs": [],
   "source": []
  },
  {
   "cell_type": "code",
   "execution_count": 12,
   "id": "47e2ab54",
   "metadata": {},
   "outputs": [
    {
     "data": {
      "image/png": "[encoded data removed]",
      "text/plain": [
       "<Figure size 648x360 with 1 Axes>"
      ]
     },
     "metadata": {
      "needs_background": "light"
     },
     "output_type": "display_data"
    },
    {
     "name": "stdout",
     "output_type": "stream",
     "text": [
      " This comparison shows that the chances of having skin cancer inceases with age for all the different dx\n"
     ]
    }
   ],
   "source": [
    "#scatter plot for diagnosis (dx) vs Age for both genders\n",
    "plt.figure(figsize=(9,5))\n",
    "plt.scatter(clean_skin_df[\"dx\"],clean_skin_df[\"age\"],marker='o', edgecolors=\"black\",facecolors=\"skyblue\")\n",
    "plt.title(\"Diagnosis vs. Age\" \" \"\"4/25/2022\")\n",
    "plt.xlabel(\"Diagnosis (DX)\")\n",
    "plt.ylabel(\"Age (Years)\")\n",
    "plt.grid(color = 'g', linestyle = '--', linewidth = 0.3)\n",
    "#plt.savefig('fig1_2022.png')\n",
    "plt.show()\n",
    "print(f' This comparison shows that the chances of having skin cancer inceases with age for all the different dx')"
   ]
  },
  {
   "cell_type": "code",
   "execution_count": 13,
   "id": "4ef9151e",
   "metadata": {},
   "outputs": [
    {
     "data": {
      "text/html": [
       "<div>\n",
       "<style scoped>\n",
       "    .dataframe tbody tr th:only-of-type {\n",
       "        vertical-align: middle;\n",
       "    }\n",
       "\n",
       "    .dataframe tbody tr th {\n",
       "        vertical-align: top;\n",
       "    }\n",
       "\n",
       "    .dataframe thead th {\n",
       "        text-align: right;\n",
       "    }\n",
       "</style>\n",
       "<table border=\"1\" class=\"dataframe\">\n",
       "  <thead>\n",
       "    <tr style=\"text-align: right;\">\n",
       "      <th></th>\n",
       "      <th>lesion_id</th>\n",
       "      <th>image_id</th>\n",
       "      <th>dx</th>\n",
       "      <th>dx_type</th>\n",
       "      <th>age</th>\n",
       "      <th>sex</th>\n",
       "      <th>localization</th>\n",
       "    </tr>\n",
       "  </thead>\n",
       "  <tbody>\n",
       "    <tr>\n",
       "      <th>0</th>\n",
       "      <td>HAM_0000118</td>\n",
       "      <td>ISIC_0027419</td>\n",
       "      <td>bkl</td>\n",
       "      <td>histo</td>\n",
       "      <td>80.0</td>\n",
       "      <td>male</td>\n",
       "      <td>scalp</td>\n",
       "    </tr>\n",
       "    <tr>\n",
       "      <th>1</th>\n",
       "      <td>HAM_0000118</td>\n",
       "      <td>ISIC_0025030</td>\n",
       "      <td>bkl</td>\n",
       "      <td>histo</td>\n",
       "      <td>80.0</td>\n",
       "      <td>male</td>\n",
       "      <td>scalp</td>\n",
       "    </tr>\n",
       "    <tr>\n",
       "      <th>2</th>\n",
       "      <td>HAM_0002730</td>\n",
       "      <td>ISIC_0026769</td>\n",
       "      <td>bkl</td>\n",
       "      <td>histo</td>\n",
       "      <td>80.0</td>\n",
       "      <td>male</td>\n",
       "      <td>scalp</td>\n",
       "    </tr>\n",
       "    <tr>\n",
       "      <th>3</th>\n",
       "      <td>HAM_0002730</td>\n",
       "      <td>ISIC_0025661</td>\n",
       "      <td>bkl</td>\n",
       "      <td>histo</td>\n",
       "      <td>80.0</td>\n",
       "      <td>male</td>\n",
       "      <td>scalp</td>\n",
       "    </tr>\n",
       "    <tr>\n",
       "      <th>4</th>\n",
       "      <td>HAM_0001466</td>\n",
       "      <td>ISIC_0031633</td>\n",
       "      <td>bkl</td>\n",
       "      <td>histo</td>\n",
       "      <td>75.0</td>\n",
       "      <td>male</td>\n",
       "      <td>ear</td>\n",
       "    </tr>\n",
       "    <tr>\n",
       "      <th>...</th>\n",
       "      <td>...</td>\n",
       "      <td>...</td>\n",
       "      <td>...</td>\n",
       "      <td>...</td>\n",
       "      <td>...</td>\n",
       "      <td>...</td>\n",
       "      <td>...</td>\n",
       "    </tr>\n",
       "    <tr>\n",
       "      <th>3326</th>\n",
       "      <td>HAM_0002276</td>\n",
       "      <td>ISIC_0025366</td>\n",
       "      <td>bkl</td>\n",
       "      <td>consensus</td>\n",
       "      <td>50.0</td>\n",
       "      <td>female</td>\n",
       "      <td>trunk</td>\n",
       "    </tr>\n",
       "    <tr>\n",
       "      <th>7100</th>\n",
       "      <td>HAM_0006159</td>\n",
       "      <td>ISIC_0028977</td>\n",
       "      <td>bkl</td>\n",
       "      <td>consensus</td>\n",
       "      <td>50.0</td>\n",
       "      <td>female</td>\n",
       "      <td>upper extremity</td>\n",
       "    </tr>\n",
       "    <tr>\n",
       "      <th>9546</th>\n",
       "      <td>HAM_0003807</td>\n",
       "      <td>ISIC_0032655</td>\n",
       "      <td>bkl</td>\n",
       "      <td>consensus</td>\n",
       "      <td>40.0</td>\n",
       "      <td>male</td>\n",
       "      <td>unknown</td>\n",
       "    </tr>\n",
       "    <tr>\n",
       "      <th>9630</th>\n",
       "      <td>HAM_0003807</td>\n",
       "      <td>ISIC_0033620</td>\n",
       "      <td>bkl</td>\n",
       "      <td>consensus</td>\n",
       "      <td>40.0</td>\n",
       "      <td>male</td>\n",
       "      <td>unknown</td>\n",
       "    </tr>\n",
       "    <tr>\n",
       "      <th>9631</th>\n",
       "      <td>HAM_0003808</td>\n",
       "      <td>ISIC_0034040</td>\n",
       "      <td>bkl</td>\n",
       "      <td>consensus</td>\n",
       "      <td>40.0</td>\n",
       "      <td>male</td>\n",
       "      <td>unknown</td>\n",
       "    </tr>\n",
       "  </tbody>\n",
       "</table>\n",
       "<p>1089 rows × 7 columns</p>\n",
       "</div>"
      ],
      "text/plain": [
       "        lesion_id      image_id   dx    dx_type   age     sex     localization\n",
       "0     HAM_0000118  ISIC_0027419  bkl      histo  80.0    male            scalp\n",
       "1     HAM_0000118  ISIC_0025030  bkl      histo  80.0    male            scalp\n",
       "2     HAM_0002730  ISIC_0026769  bkl      histo  80.0    male            scalp\n",
       "3     HAM_0002730  ISIC_0025661  bkl      histo  80.0    male            scalp\n",
       "4     HAM_0001466  ISIC_0031633  bkl      histo  75.0    male              ear\n",
       "...           ...           ...  ...        ...   ...     ...              ...\n",
       "3326  HAM_0002276  ISIC_0025366  bkl  consensus  50.0  female            trunk\n",
       "7100  HAM_0006159  ISIC_0028977  bkl  consensus  50.0  female  upper extremity\n",
       "9546  HAM_0003807  ISIC_0032655  bkl  consensus  40.0    male          unknown\n",
       "9630  HAM_0003807  ISIC_0033620  bkl  consensus  40.0    male          unknown\n",
       "9631  HAM_0003808  ISIC_0034040  bkl  consensus  40.0    male          unknown\n",
       "\n",
       "[1089 rows x 7 columns]"
      ]
     },
     "execution_count": 13,
     "metadata": {},
     "output_type": "execute_result"
    }
   ],
   "source": [
    "#create a male only dataframe\n",
    "df_male = clean_skin_df.loc[clean_skin_df['sex'] == 'male']\n",
    "df_dx = clean_skin_df.loc[clean_skin_df['dx'].values == 'bkl']\n",
    "#df_male.head()\n",
    "df_dx\n",
    "# df['M'] = df.loc[df['gender'] == 'E', 'gender']"
   ]
  },
  {
   "cell_type": "code",
   "execution_count": null,
   "id": "16c45b95",
   "metadata": {},
   "outputs": [],
   "source": []
  }
 ],
 "metadata": {
  "kernelspec": {
   "display_name": "Python 3 (ipykernel)",
   "language": "python",
   "name": "python3"
  },
  "language_info": {
   "codemirror_mode": {
    "name": "ipython",
    "version": 3
   },
   "file_extension": ".py",
   "mimetype": "text/x-python",
   "name": "python",
   "nbconvert_exporter": "python",
   "pygments_lexer": "ipython3",
   "version": "3.9.7"
  }
 },
 "nbformat": 4,
 "nbformat_minor": 5
}
