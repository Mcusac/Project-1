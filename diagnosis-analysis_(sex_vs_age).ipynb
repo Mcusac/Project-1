{
 "cells": [
  {
   "cell_type": "code",
   "execution_count": null,
   "id": "58f8d779",
   "metadata": {},
   "outputs": [],
   "source": []
  },
  {
   "cell_type": "code",
   "execution_count": 1,
   "id": "624ed094",
   "metadata": {},
   "outputs": [],
   "source": [
    "import matplotlib.pyplot as plt\n",
    "import pandas as pd\n",
    "import numpy as np\n",
    "import requests\n",
    "import time\n",
    "import scipy.stats as stats\n",
    "from scipy.stats import linregress"
   ]
  },
  {
   "cell_type": "markdown",
   "id": "6e158d65",
   "metadata": {},
   "source": [
    "# Comparison of 7 Skin Cancer Diagnosis\n"
   ]
  },
  {
   "cell_type": "markdown",
   "id": "1c2a2ad0",
   "metadata": {},
   "source": [
    "##### How do we know if age is a factor in getting skin cancer?\n",
    "\n",
    "#### Does getting older increases the average rate of skin cancer\n",
    "\n"
   ]
  },
  {
   "cell_type": "markdown",
   "id": "57f2f107",
   "metadata": {},
   "source": [
    "## Dataset: HAM10000_metadata.csv\n",
    "#### Source : Kaggle database\n",
    "#### Description: Comparison of male and female population of patient diagnosed with skin cancer and average age\n",
    "#### Age: 0 to 100 years old"
   ]
  },
  {
   "cell_type": "code",
   "execution_count": 25,
   "id": "af3b71a0",
   "metadata": {},
   "outputs": [],
   "source": [
    "skin_cancer_df = pd.read_csv('HAM10000_metadata.csv')\n",
    "clean_skin_df = skin_cancer_df.dropna(axis= 'rows')\n",
    "clean_skin_df = skin_cancer_df.dropna(axis= 'rows')\n",
    "clean_skin_df = clean_skin_df.loc[clean_skin_df['sex'] != 'unknown']\n",
    "clean_skin_df = clean_skin_df.loc[clean_skin_df['localization'] != 'unknown']"
   ]
  },
  {
   "cell_type": "code",
   "execution_count": 26,
   "id": "5b7ad461",
   "metadata": {},
   "outputs": [],
   "source": [
    "dx_clean_df = pd.DataFrame(clean_skin_df, columns = ['dx'])\n",
    "dx_clean_df = dx_clean_df['dx'].value_counts()\n",
    "#print(dx_clean_df)"
   ]
  },
  {
   "cell_type": "code",
   "execution_count": 27,
   "id": "275e91fe",
   "metadata": {},
   "outputs": [
    {
     "data": {
      "image/png": "[encoded data removed]",
      "text/plain": [
       "<Figure size 540x288 with 1 Axes>"
      ]
     },
     "metadata": {
      "needs_background": "light"
     },
     "output_type": "display_data"
    }
   ],
   "source": [
    "#plot a bar graph to show the different type of skin cancer cells\n",
    "dx_clean_df.plot(kind=\"bar\",figsize=(7.5,4))\n",
    "plt.xlabel(\"Diagnosis ('dx')\")\n",
    "plt.ylabel(\"Number of Data Points\")\n",
    "plt.title(\"Diagnosis per Cell Type\")\n",
    "plt.tight_layout()"
   ]
  },
  {
   "cell_type": "code",
   "execution_count": 28,
   "id": "0ee23f1d",
   "metadata": {},
   "outputs": [],
   "source": [
    "\n",
    "to_drop = ['lesion_id',\n",
    "            'image_id',\n",
    "            'dx_type',\n",
    "           'localization',\n",
    "            'dx_type'\n",
    "          ]\n",
    "\n",
    "clean_skin_df.drop(to_drop, inplace=True, axis=1)"
   ]
  },
  {
   "cell_type": "code",
   "execution_count": 29,
   "id": "4f500061",
   "metadata": {},
   "outputs": [],
   "source": [
    "#clean_skin_df['dx'].is_unique\n",
    "clean_skin_df = clean_skin_df.set_index('dx')\n",
    "bkl_dx=clean_skin_df.loc[\"bkl\"]\n",
    "bkl=bkl_dx.value_counts()\n",
    "#print(bkl)"
   ]
  },
  {
   "cell_type": "code",
   "execution_count": 30,
   "id": "43333cd7",
   "metadata": {},
   "outputs": [
    {
     "data": {
      "text/plain": [
       "62.418655097613886"
      ]
     },
     "execution_count": 30,
     "metadata": {},
     "output_type": "execute_result"
    }
   ],
   "source": [
    "#mean for female with nv diagnosis \n",
    "female_with_bkl = bkl_dx[bkl_dx[\"sex\"] == 'female']\n",
    "female_with_bkl['age'].mean()\n"
   ]
  },
  {
   "cell_type": "code",
   "execution_count": 31,
   "id": "ed33fcab",
   "metadata": {},
   "outputs": [
    {
     "data": {
      "text/plain": [
       "65.82926829268293"
      ]
     },
     "execution_count": 31,
     "metadata": {},
     "output_type": "execute_result"
    }
   ],
   "source": [
    "\n",
    "#mean for female with Bkl diagnosis \n",
    "male_with_bkl = bkl_dx[bkl_dx[\"sex\"] == 'male']\n",
    "male_with_bkl['age'].mean()"
   ]
  },
  {
   "cell_type": "code",
   "execution_count": 32,
   "id": "add57884",
   "metadata": {},
   "outputs": [
    {
     "data": {
      "text/plain": [
       "Ttest_indResult(statistic=-3.9637425771086563, pvalue=7.905966344934406e-05)"
      ]
     },
     "execution_count": 32,
     "metadata": {},
     "output_type": "execute_result"
    }
   ],
   "source": [
    "stats.ttest_ind(female_with_bkl.age, male_with_bkl.age, equal_var=False)"
   ]
  },
  {
   "cell_type": "code",
   "execution_count": 33,
   "id": "50c7258f",
   "metadata": {},
   "outputs": [],
   "source": [
    "\n",
    "\n",
    "#clean_skin_df['dx'].is_unique\n",
    "#clean_skin_df = clean_skin_df.set_index('dx')\n",
    "nv_dx=clean_skin_df.loc[\"nv\"]\n",
    "nv=bkl_dx.value_counts()\n",
    "#print(bkl)"
   ]
  },
  {
   "cell_type": "code",
   "execution_count": 34,
   "id": "6e0cb471",
   "metadata": {},
   "outputs": [
    {
     "data": {
      "text/plain": [
       "44.17753738466433"
      ]
     },
     "execution_count": 34,
     "metadata": {},
     "output_type": "execute_result"
    }
   ],
   "source": [
    "#mean for female with nv diagnosis \n",
    "female_with_nv = nv_dx[nv_dx[\"sex\"] == 'female']\n",
    "female_with_nv['age'].mean()"
   ]
  },
  {
   "cell_type": "code",
   "execution_count": 35,
   "id": "db39ea17",
   "metadata": {},
   "outputs": [
    {
     "data": {
      "text/plain": [
       "48.83960573476703"
      ]
     },
     "execution_count": 35,
     "metadata": {},
     "output_type": "execute_result"
    }
   ],
   "source": [
    "#mean for female with Bkl diagnosis \n",
    "male_with_nv = nv_dx[nv_dx[\"sex\"] == 'male']\n",
    "male_with_nv['age'].mean()"
   ]
  },
  {
   "cell_type": "code",
   "execution_count": 36,
   "id": "039bae8e",
   "metadata": {},
   "outputs": [
    {
     "data": {
      "text/plain": [
       "Ttest_indResult(statistic=-12.551170922436889, pvalue=1.0191723642186528e-35)"
      ]
     },
     "execution_count": 36,
     "metadata": {},
     "output_type": "execute_result"
    }
   ],
   "source": [
    "stats.ttest_ind(female_with_nv.age, male_with_nv.age, equal_var=False)"
   ]
  },
  {
   "cell_type": "code",
   "execution_count": null,
   "id": "7a2d55e1",
   "metadata": {},
   "outputs": [],
   "source": []
  },
  {
   "cell_type": "code",
   "execution_count": 37,
   "id": "83f2599b",
   "metadata": {},
   "outputs": [],
   "source": [
    "#clean_skin_df['dx'].is_unique\n",
    "#clean_skin_df = clean_skin_df.set_index('dx')\n",
    "mel_dx=clean_skin_df.loc[\"mel\"]\n",
    "mel=mel_dx.value_counts()\n",
    "#print(bkl)"
   ]
  },
  {
   "cell_type": "code",
   "execution_count": 38,
   "id": "26eb92b5",
   "metadata": {},
   "outputs": [
    {
     "data": {
      "text/plain": [
       "56.347517730496456"
      ]
     },
     "execution_count": 38,
     "metadata": {},
     "output_type": "execute_result"
    }
   ],
   "source": [
    "#mean for female with nv diagnosis \n",
    "female_with_mel = mel_dx[mel_dx[\"sex\"] == 'female']\n",
    "female_with_mel['age'].mean()"
   ]
  },
  {
   "cell_type": "code",
   "execution_count": 39,
   "id": "79a9efb0",
   "metadata": {},
   "outputs": [
    {
     "data": {
      "text/plain": [
       "63.259587020648965"
      ]
     },
     "execution_count": 39,
     "metadata": {},
     "output_type": "execute_result"
    }
   ],
   "source": [
    "#mean for female with Bkl diagnosis \n",
    "male_with_mel = mel_dx[mel_dx[\"sex\"] == 'male']\n",
    "male_with_mel['age'].mean()"
   ]
  },
  {
   "cell_type": "code",
   "execution_count": 40,
   "id": "6004cf97",
   "metadata": {},
   "outputs": [
    {
     "data": {
      "text/plain": [
       "Ttest_indResult(statistic=-7.258689376573507, pvalue=9.346411404400889e-13)"
      ]
     },
     "execution_count": 40,
     "metadata": {},
     "output_type": "execute_result"
    }
   ],
   "source": [
    "stats.ttest_ind(female_with_mel.age, male_with_mel.age, equal_var=False)"
   ]
  },
  {
   "cell_type": "markdown",
   "id": "b1cb710a",
   "metadata": {},
   "source": [
    "...\n",
    "\n",
    "Based on the leading 3 dianosis all has a p value that is greater than 0.5\n",
    "\n",
    "we do not reject the results but further research and analysis is needed to further identify the relationship between age and getting skin cancer\n",
    "\n",
    "\n",
    "...."
   ]
  },
  {
   "cell_type": "code",
   "execution_count": null,
   "id": "f892a199",
   "metadata": {},
   "outputs": [],
   "source": []
  }
 ],
 "metadata": {
  "kernelspec": {
   "display_name": "Python 3 (ipykernel)",
   "language": "python",
   "name": "python3"
  },
  "language_info": {
   "codemirror_mode": {
    "name": "ipython",
    "version": 3
   },
   "file_extension": ".py",
   "mimetype": "text/x-python",
   "name": "python",
   "nbconvert_exporter": "python",
   "pygments_lexer": "ipython3",
   "version": "3.9.7"
  }
 },
 "nbformat": 4,
 "nbformat_minor": 5
}
