{
 "cells": [
  {
   "cell_type": "code",
   "execution_count": null,
   "id": "e9f4d3d1",
   "metadata": {},
   "outputs": [],
   "source": []
  },
  {
   "cell_type": "code",
   "execution_count": 1,
   "id": "860df962",
   "metadata": {},
   "outputs": [],
   "source": [
    "import matplotlib.pyplot as plt\n",
    "import pandas as pd\n",
    "import numpy as np\n",
    "import requests\n",
    "import time\n",
    "import scipy.stats as stats\n",
    "from scipy.stats import linregress"
   ]
  },
  {
   "cell_type": "markdown",
   "id": "e7c6dd87",
   "metadata": {},
   "source": [
    "# Comparison of 7 Skin Cancer Diagnosis\n"
   ]
  },
  {
   "cell_type": "markdown",
   "id": "dbf8e11d",
   "metadata": {},
   "source": [
    "##### How do we know if age is a factor in getting skin cancer?\n",
    "\n",
    "#### Does getting older increases the average rate of skin cancer\n",
    "\n"
   ]
  },
  {
   "cell_type": "markdown",
   "id": "174f18da",
   "metadata": {},
   "source": [
    "## Dataset: HAM10000_metadata.csv\n",
    "#### Source : Kaggle database\n",
    "#### Description: Comparison of male and female population of patient diagnosed with skin cancer and average age\n",
    "#### Age: 0 to 100 years old"
   ]
  },
  {
   "cell_type": "code",
   "execution_count": 41,
   "id": "66b9e90a",
   "metadata": {},
   "outputs": [],
   "source": [
    "skin_cancer_df = pd.read_csv('HAM10000_metadata.csv')\n",
    "clean_skin_df = skin_cancer_df.dropna(axis= 'rows')\n",
    "clean_skin_df = skin_cancer_df.dropna(axis= 'rows')\n",
    "clean_skin_df = clean_skin_df.loc[clean_skin_df['sex'] != 'unknown']\n",
    "clean_skin_df = clean_skin_df.loc[clean_skin_df['localization'] != 'unknown']"
   ]
  },
  {
   "cell_type": "code",
   "execution_count": 42,
   "id": "3c223a79",
   "metadata": {},
   "outputs": [
    {
     "data": {
      "image/png": "[encoded data removed]",
      "text/plain": [
       "<Figure size 432x288 with 1 Axes>"
      ]
     },
     "metadata": {
      "needs_background": "light"
     },
     "output_type": "display_data"
    }
   ],
   "source": [
    "clean_skin_df['age'].hist(bins=50);"
   ]
  },
  {
   "cell_type": "markdown",
   "id": "73575d1d",
   "metadata": {},
   "source": [
    "....\n",
    "\n",
    "From the graph it appears that alarger number of skin cancer instances are significant with an age range of  30 to 60\n",
    "\n",
    "Lets drill through further to see which skin cancer diagnosis has a large data points then combare the  distribution of males and females\n",
    "\n",
    "...."
   ]
  },
  {
   "cell_type": "code",
   "execution_count": 26,
   "id": "6c2ae03a",
   "metadata": {},
   "outputs": [],
   "source": [
    "dx_clean_df = pd.DataFrame(clean_skin_df, columns = ['dx'])\n",
    "dx_clean_df = dx_clean_df['dx'].value_counts()\n",
    "#print(dx_clean_df)"
   ]
  },
  {
   "cell_type": "code",
   "execution_count": 27,
   "id": "ce597fe7",
   "metadata": {},
   "outputs": [
    {
     "data": {
      "image/png": "[encoded data removed]",
      "text/plain": [
       "<Figure size 540x288 with 1 Axes>"
      ]
     },
     "metadata": {
      "needs_background": "light"
     },
     "output_type": "display_data"
    }
   ],
   "source": [
    "#plot a bar graph to show the different type of skin cancer cells\n",
    "dx_clean_df.plot(kind=\"bar\",figsize=(7.5,4))\n",
    "plt.xlabel(\"Diagnosis ('dx')\")\n",
    "plt.ylabel(\"Number of Data Points\")\n",
    "plt.title(\"Diagnosis per Cell Type\")\n",
    "plt.tight_layout()"
   ]
  },
  {
   "cell_type": "markdown",
   "id": "4b6ab37b",
   "metadata": {},
   "source": [
    "---\n",
    "The above plot  represent the different skin cancer diagnosis and the most prevelance skin cancer cell type with over 6000 data points for both gender is Melanecytic nevi, the rest of the diagnosis has  a reletively lower data points of a 1000 and below.\n",
    "\n",
    "----"
   ]
  },
  {
   "cell_type": "code",
   "execution_count": 28,
   "id": "ef8046a7",
   "metadata": {},
   "outputs": [],
   "source": [
    "\n",
    "to_drop = ['lesion_id',\n",
    "            'image_id',\n",
    "            'dx_type',\n",
    "           'localization',\n",
    "            'dx_type'\n",
    "          ]\n",
    "\n",
    "clean_skin_df.drop(to_drop, inplace=True, axis=1)"
   ]
  },
  {
   "cell_type": "code",
   "execution_count": 29,
   "id": "d27a7551",
   "metadata": {},
   "outputs": [],
   "source": [
    "#clean_skin_df['dx'].is_unique\n",
    "clean_skin_df = clean_skin_df.set_index('dx')\n",
    "bkl_dx=clean_skin_df.loc[\"bkl\"]\n",
    "bkl=bkl_dx.value_counts()\n",
    "#print(bkl)"
   ]
  },
  {
   "cell_type": "code",
   "execution_count": 30,
   "id": "40d73079",
   "metadata": {},
   "outputs": [
    {
     "data": {
      "text/plain": [
       "62.418655097613886"
      ]
     },
     "execution_count": 30,
     "metadata": {},
     "output_type": "execute_result"
    }
   ],
   "source": [
    "#mean for female with nv diagnosis \n",
    "female_with_bkl = bkl_dx[bkl_dx[\"sex\"] == 'female']\n",
    "female_with_bkl['age'].mean()\n"
   ]
  },
  {
   "cell_type": "code",
   "execution_count": 31,
   "id": "c5299c84",
   "metadata": {},
   "outputs": [
    {
     "data": {
      "text/plain": [
       "65.82926829268293"
      ]
     },
     "execution_count": 31,
     "metadata": {},
     "output_type": "execute_result"
    }
   ],
   "source": [
    "\n",
    "#mean for female with Bkl diagnosis \n",
    "male_with_bkl = bkl_dx[bkl_dx[\"sex\"] == 'male']\n",
    "male_with_bkl['age'].mean()"
   ]
  },
  {
   "cell_type": "code",
   "execution_count": 32,
   "id": "fc292b7d",
   "metadata": {},
   "outputs": [
    {
     "data": {
      "text/plain": [
       "Ttest_indResult(statistic=-3.9637425771086563, pvalue=7.905966344934406e-05)"
      ]
     },
     "execution_count": 32,
     "metadata": {},
     "output_type": "execute_result"
    }
   ],
   "source": [
    "stats.ttest_ind(female_with_bkl.age, male_with_bkl.age, equal_var=False)"
   ]
  },
  {
   "cell_type": "code",
   "execution_count": 33,
   "id": "610548f7",
   "metadata": {},
   "outputs": [],
   "source": [
    "\n",
    "\n",
    "#clean_skin_df['dx'].is_unique\n",
    "#clean_skin_df = clean_skin_df.set_index('dx')\n",
    "nv_dx=clean_skin_df.loc[\"nv\"]\n",
    "nv=bkl_dx.value_counts()\n",
    "#print(bkl)"
   ]
  },
  {
   "cell_type": "code",
   "execution_count": 34,
   "id": "4ec7d7e1",
   "metadata": {},
   "outputs": [
    {
     "data": {
      "text/plain": [
       "44.17753738466433"
      ]
     },
     "execution_count": 34,
     "metadata": {},
     "output_type": "execute_result"
    }
   ],
   "source": [
    "#mean for female with nv diagnosis \n",
    "female_with_nv = nv_dx[nv_dx[\"sex\"] == 'female']\n",
    "female_with_nv['age'].mean()"
   ]
  },
  {
   "cell_type": "code",
   "execution_count": 35,
   "id": "82b3f4d0",
   "metadata": {},
   "outputs": [
    {
     "data": {
      "text/plain": [
       "48.83960573476703"
      ]
     },
     "execution_count": 35,
     "metadata": {},
     "output_type": "execute_result"
    }
   ],
   "source": [
    "#mean for female with Bkl diagnosis \n",
    "male_with_nv = nv_dx[nv_dx[\"sex\"] == 'male']\n",
    "male_with_nv['age'].mean()"
   ]
  },
  {
   "cell_type": "code",
   "execution_count": 36,
   "id": "ca3ca3b3",
   "metadata": {},
   "outputs": [
    {
     "data": {
      "text/plain": [
       "Ttest_indResult(statistic=-12.551170922436889, pvalue=1.0191723642186528e-35)"
      ]
     },
     "execution_count": 36,
     "metadata": {},
     "output_type": "execute_result"
    }
   ],
   "source": [
    "stats.ttest_ind(female_with_nv.age, male_with_nv.age, equal_var=False)"
   ]
  },
  {
   "cell_type": "code",
   "execution_count": null,
   "id": "55b1e81e",
   "metadata": {},
   "outputs": [],
   "source": []
  },
  {
   "cell_type": "code",
   "execution_count": 37,
   "id": "0b3540f0",
   "metadata": {},
   "outputs": [],
   "source": [
    "#clean_skin_df['dx'].is_unique\n",
    "#clean_skin_df = clean_skin_df.set_index('dx')\n",
    "mel_dx=clean_skin_df.loc[\"mel\"]\n",
    "mel=mel_dx.value_counts()\n",
    "#print(bkl)"
   ]
  },
  {
   "cell_type": "code",
   "execution_count": 38,
   "id": "1f03c419",
   "metadata": {},
   "outputs": [
    {
     "data": {
      "text/plain": [
       "56.347517730496456"
      ]
     },
     "execution_count": 38,
     "metadata": {},
     "output_type": "execute_result"
    }
   ],
   "source": [
    "#mean for female with nv diagnosis \n",
    "female_with_mel = mel_dx[mel_dx[\"sex\"] == 'female']\n",
    "female_with_mel['age'].mean()"
   ]
  },
  {
   "cell_type": "code",
   "execution_count": 39,
   "id": "d1a7788e",
   "metadata": {},
   "outputs": [
    {
     "data": {
      "text/plain": [
       "63.259587020648965"
      ]
     },
     "execution_count": 39,
     "metadata": {},
     "output_type": "execute_result"
    }
   ],
   "source": [
    "#mean for female with Bkl diagnosis \n",
    "male_with_mel = mel_dx[mel_dx[\"sex\"] == 'male']\n",
    "male_with_mel['age'].mean()"
   ]
  },
  {
   "cell_type": "code",
   "execution_count": 40,
   "id": "4101e2b0",
   "metadata": {},
   "outputs": [
    {
     "data": {
      "text/plain": [
       "Ttest_indResult(statistic=-7.258689376573507, pvalue=9.346411404400889e-13)"
      ]
     },
     "execution_count": 40,
     "metadata": {},
     "output_type": "execute_result"
    }
   ],
   "source": [
    "stats.ttest_ind(female_with_mel.age, male_with_mel.age, equal_var=False)"
   ]
  },
  {
   "cell_type": "markdown",
   "id": "f397f144",
   "metadata": {},
   "source": [
    "----\n",
    "\n",
    "Based on the leading 3 dianosis all has a p value that is greater than 0.5\n",
    "\n",
    "we do not reject the results but further research and analysis is needed to further identify the relationship between age and getting skin cancer\n",
    "\n",
    "\n",
    "----"
   ]
  },
  {
   "cell_type": "code",
   "execution_count": null,
   "id": "606a3735",
   "metadata": {},
   "outputs": [],
   "source": []
  }
 ],
 "metadata": {
  "kernelspec": {
   "display_name": "Python 3 (ipykernel)",
   "language": "python",
   "name": "python3"
  },
  "language_info": {
   "codemirror_mode": {
    "name": "ipython",
    "version": 3
   },
   "file_extension": ".py",
   "mimetype": "text/x-python",
   "name": "python",
   "nbconvert_exporter": "python",
   "pygments_lexer": "ipython3",
   "version": "3.9.7"
  }
 },
 "nbformat": 4,
 "nbformat_minor": 5
}
