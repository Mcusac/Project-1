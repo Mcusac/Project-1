{
 "cells": [
  {
   "cell_type": "markdown",
   "id": "3d2366cc",
   "metadata": {},
   "source": [
    "## Skin Cancer Data Analysis\n",
    "\n",
    "* According to American academy of Dermatology Association, Skin cancer is the most common cancer in the United States.\n",
    "* The Association also note that skin cancer can affect anyone regardless of color.\n",
    "* We will analyse the data to determine \n",
    "* 1. Between male and female which gender is at greater risk\n",
    "* 2. What are the general anatomical parts generally affected by skin Cancer\n",
    "* 3. Identify which type of skin cell cancer is more prevelance and to which gender if not both equally.\n",
    "\n",
    "## Legend\n",
    "* The analysis includes the abbreviation of diagnosis of skin carcinoma\n",
    "* nv - melanocytic nevi\n",
    "* mel - Melanoma\n",
    "* bkl - benign keratosis-like lesions\n",
    "* bcc  - Basal cell carcinoma\n",
    "* akiec - actinic keratoses and intraepithelial carcinoma\n",
    "* vasc - vascular lesions\n",
    "* df  - dermatofibroma\n",
    "\n",
    "## Hypothesis\n",
    "\n",
    "- localization v sex\n",
    "- localization v aage\n",
    "- localization v dx\n",
    "- localization v dx_type\n",
    "\n",
    "\n",
    "\n",
    "\n",
    "\n",
    "\n",
    "\n",
    "\n",
    "\n"
   ]
  },
  {
   "cell_type": "code",
   "execution_count": 1,
   "id": "0307a6b6",
   "metadata": {},
   "outputs": [],
   "source": [
    "# import Dependencies and Setup\n",
    "import matplotlib.pyplot as plt\n",
    "import pandas as pd\n",
    "import numpy as np\n",
    "import requests\n",
    "import scipy.stats as st\n",
    "import time\n",
    "from scipy.stats import linregress\n"
   ]
  },
  {
   "cell_type": "code",
   "execution_count": 2,
   "id": "788289b9",
   "metadata": {},
   "outputs": [
    {
     "data": {
      "text/plain": [
       "lesion_id       10015\n",
       "image_id        10015\n",
       "dx              10015\n",
       "dx_type         10015\n",
       "age              9958\n",
       "sex             10015\n",
       "localization    10015\n",
       "dtype: int64"
      ]
     },
     "execution_count": 2,
     "metadata": {},
     "output_type": "execute_result"
    }
   ],
   "source": [
    "#import and read csv file\n",
    "\n",
    "skin_cancer_df = pd.read_csv('HAM10000_metadata.csv')\n",
    "skin_cancer_df.count()"
   ]
  },
  {
   "cell_type": "code",
   "execution_count": 3,
   "id": "f785bf78",
   "metadata": {},
   "outputs": [
    {
     "data": {
      "text/plain": [
       "lesion_id       9958\n",
       "image_id        9958\n",
       "dx              9958\n",
       "dx_type         9958\n",
       "age             9958\n",
       "sex             9958\n",
       "localization    9958\n",
       "dtype: int64"
      ]
     },
     "execution_count": 3,
     "metadata": {},
     "output_type": "execute_result"
    }
   ],
   "source": [
    "#clean df\n",
    "#drop nan value and drop unknown\n",
    "clean_skin_df = skin_cancer_df.dropna(axis= 'rows')\n",
    "#clean_skin_df = clean_skin_df.loc[clean_skin_df['sex'] != 'unknown']\n",
    "clean_skin_df.count()"
   ]
  },
  {
   "cell_type": "code",
   "execution_count": 4,
   "id": "1449644e",
   "metadata": {},
   "outputs": [
    {
     "data": {
      "image/png": "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\n",
      "text/plain": [
       "<Figure size 432x288 with 1 Axes>"
      ]
     },
     "metadata": {
      "needs_background": "light"
     },
     "output_type": "display_data"
    }
   ],
   "source": [
    "#bar plot to visualize the relationship of the data in reference to sex(gender)\n",
    "clean_skin_df['sex'].value_counts().plot(kind='bar')\n",
    "plt.xlabel(\"Gender('sex')\")\n",
    "plt.ylabel(\"Number of Data Points\", size=15)\n",
    "plt.title(\"Gender per Data Point\")\n",
    "plt.grid(color = 'purple', linestyle = '--', linewidth = 0.1)\n",
    "plt.show()"
   ]
  },
  {
   "cell_type": "code",
<<<<<<< HEAD
   "execution_count": 14,
=======
   "execution_count": 6,
>>>>>>> 5ec05ce34279ef2ceee6c5c245ea3e3e4fb85e4b
   "id": "3dd63b01",
   "metadata": {},
   "outputs": [
    {
     "data": {
      "text/html": [
       "<div>\n",
       "<style scoped>\n",
       "    .dataframe tbody tr th:only-of-type {\n",
       "        vertical-align: middle;\n",
       "    }\n",
       "\n",
       "    .dataframe tbody tr th {\n",
       "        vertical-align: top;\n",
       "    }\n",
       "\n",
       "    .dataframe thead th {\n",
       "        text-align: right;\n",
       "    }\n",
       "</style>\n",
       "<table border=\"1\" class=\"dataframe\">\n",
       "  <thead>\n",
       "    <tr style=\"text-align: right;\">\n",
       "      <th></th>\n",
       "      <th>lesion_id</th>\n",
       "      <th>image_id</th>\n",
       "      <th>dx</th>\n",
       "      <th>dx_type</th>\n",
       "      <th>age</th>\n",
       "      <th>sex</th>\n",
       "      <th>localization</th>\n",
       "    </tr>\n",
       "  </thead>\n",
       "  <tbody>\n",
       "    <tr>\n",
       "      <th>0</th>\n",
       "      <td>HAM_0000118</td>\n",
       "      <td>ISIC_0027419</td>\n",
       "      <td>bkl</td>\n",
       "      <td>histo</td>\n",
       "      <td>80.0</td>\n",
       "      <td>male</td>\n",
       "      <td>scalp</td>\n",
       "    </tr>\n",
       "    <tr>\n",
       "      <th>1</th>\n",
       "      <td>HAM_0000118</td>\n",
       "      <td>ISIC_0025030</td>\n",
       "      <td>bkl</td>\n",
       "      <td>histo</td>\n",
       "      <td>80.0</td>\n",
       "      <td>male</td>\n",
       "      <td>scalp</td>\n",
       "    </tr>\n",
       "    <tr>\n",
       "      <th>2</th>\n",
       "      <td>HAM_0002730</td>\n",
       "      <td>ISIC_0026769</td>\n",
       "      <td>bkl</td>\n",
       "      <td>histo</td>\n",
       "      <td>80.0</td>\n",
       "      <td>male</td>\n",
       "      <td>scalp</td>\n",
       "    </tr>\n",
       "    <tr>\n",
       "      <th>3</th>\n",
       "      <td>HAM_0002730</td>\n",
       "      <td>ISIC_0025661</td>\n",
       "      <td>bkl</td>\n",
       "      <td>histo</td>\n",
       "      <td>80.0</td>\n",
       "      <td>male</td>\n",
       "      <td>scalp</td>\n",
       "    </tr>\n",
       "    <tr>\n",
       "      <th>4</th>\n",
       "      <td>HAM_0001466</td>\n",
       "      <td>ISIC_0031633</td>\n",
       "      <td>bkl</td>\n",
       "      <td>histo</td>\n",
       "      <td>75.0</td>\n",
       "      <td>male</td>\n",
       "      <td>ear</td>\n",
       "    </tr>\n",
       "  </tbody>\n",
       "</table>\n",
       "</div>"
      ],
      "text/plain": [
       "     lesion_id      image_id   dx dx_type   age   sex localization\n",
       "0  HAM_0000118  ISIC_0027419  bkl   histo  80.0  male        scalp\n",
       "1  HAM_0000118  ISIC_0025030  bkl   histo  80.0  male        scalp\n",
       "2  HAM_0002730  ISIC_0026769  bkl   histo  80.0  male        scalp\n",
       "3  HAM_0002730  ISIC_0025661  bkl   histo  80.0  male        scalp\n",
       "4  HAM_0001466  ISIC_0031633  bkl   histo  75.0  male          ear"
      ]
     },
<<<<<<< HEAD
     "execution_count": 14,
=======
     "execution_count": 6,
>>>>>>> 5ec05ce34279ef2ceee6c5c245ea3e3e4fb85e4b
     "metadata": {},
     "output_type": "execute_result"
    }
   ],
   "source": [
    "# Create a clean dataframe by removing unkown gender from the dataframe\n",
    "# Comparing the previous clean_df gender(sex) had 10 unknowns.\n",
    "clean_skin_df = skin_cancer_df.dropna(axis= 'rows')\n",
    "clean_skin_df = clean_skin_df.loc[clean_skin_df['sex'] != 'unknown']\n",
    "clean_skin_df = clean_skin_df.loc[clean_skin_df['localization'] != 'unknown']\n",
<<<<<<< HEAD
=======
    "\n",
>>>>>>> 5ec05ce34279ef2ceee6c5c245ea3e3e4fb85e4b
    "clean_skin_df.head()"
   ]
  },
  {
   "cell_type": "code",
<<<<<<< HEAD
   "execution_count": 15,
=======
   "execution_count": 7,
>>>>>>> 5ec05ce34279ef2ceee6c5c245ea3e3e4fb85e4b
   "id": "16e04048",
   "metadata": {},
   "outputs": [
    {
     "name": "stdout",
     "output_type": "stream",
     "text": [
      "nv       6491\n",
      "mel      1101\n",
      "bkl      1076\n",
      "bcc       509\n",
      "akiec     327\n",
      "vasc      142\n",
      "df        115\n",
      "Name: dx, dtype: int64\n"
     ]
    }
   ],
   "source": [
    "#create new dataframe from clean df for dignosis using dx column values\n",
    "dx_clean_df = pd.DataFrame(clean_skin_df, columns = ['dx'])\n",
    "dx_clean_df = dx_clean_df['dx'].value_counts()\n",
    "print(dx_clean_df)"
   ]
  },
  {
   "cell_type": "code",
<<<<<<< HEAD
   "execution_count": 16,
=======
   "execution_count": 8,
>>>>>>> 5ec05ce34279ef2ceee6c5c245ea3e3e4fb85e4b
   "id": "3da20ae7",
   "metadata": {},
   "outputs": [
    {
     "data": {
      "image/png": "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\n",
      "text/plain": [
       "<Figure size 540x288 with 1 Axes>"
      ]
     },
     "metadata": {
      "needs_background": "light"
     },
     "output_type": "display_data"
    }
   ],
   "source": [
    "#plot a bar graph to show the different type of skin cancer cells\n",
    "dx_clean_df.plot(kind=\"bar\",figsize=(7.5,4))\n",
    "plt.xlabel(\"Diagnosis ('dx')\")\n",
    "plt.ylabel(\"Number of Data Points\")\n",
    "plt.title(\"Diagnosis per Cell Type\")\n",
    "plt.tight_layout()\n",
    "plt.grid(color = 'r', linestyle = '--', linewidth = 0.1)"
   ]
  },
  {
   "cell_type": "code",
<<<<<<< HEAD
   "execution_count": 17,
=======
   "execution_count": 9,
>>>>>>> 5ec05ce34279ef2ceee6c5c245ea3e3e4fb85e4b
   "id": "68e5dbda",
   "metadata": {},
   "outputs": [
    {
     "name": "stdout",
     "output_type": "stream",
     "text": [
      "back               2190\n",
      "lower extremity    2077\n",
      "trunk              1400\n",
      "upper extremity    1116\n",
      "abdomen            1019\n",
      "face                743\n",
      "chest               405\n",
      "foot                314\n",
      "neck                168\n",
      "scalp               128\n",
      "hand                 90\n",
      "ear                  56\n",
      "genital              48\n",
      "acral                 7\n",
      "Name: localization, dtype: int64\n"
     ]
    }
   ],
   "source": [
    "#create another dataframe from clean df for affected bogy anatomy using the localization column values\n",
    "loca_clean_df = pd.DataFrame(clean_skin_df, columns = ['localization'])\n",
    "\n",
    "loca_clean_df = loca_clean_df['localization'].value_counts()\n",
    "print(loca_clean_df)"
   ]
  },
  {
   "cell_type": "code",
<<<<<<< HEAD
   "execution_count": 18,
=======
   "execution_count": 10,
>>>>>>> 5ec05ce34279ef2ceee6c5c245ea3e3e4fb85e4b
   "id": "c6152bb8",
   "metadata": {},
   "outputs": [
    {
     "data": {
      "image/png": "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\n",
      "text/plain": [
       "<Figure size 504x360 with 1 Axes>"
      ]
     },
     "metadata": {
      "needs_background": "light"
     },
     "output_type": "display_data"
    }
   ],
   "source": [
    "#bar plot for localization\n",
    "loca_clean_df.plot(kind=\"bar\",figsize=(7,5))\n",
    "#loca_clean_df.groupby('localization')['age'].value_counts().unstack(0).plot.bar(figsize=(20,12))\n",
    "# plt.title('Age Groups vs. Sex')\n",
    "# plt.xlabel('Age Groups')\n",
    "# plt.ylabel('Sex')\n",
    "# plt.rcParams.update({'font.size': 25})\n",
    "\n",
    "\n",
    "# plt.show()\n",
    "plt.xlabel(\"Area of Malignant Localization\")\n",
    "plt.ylabel(\"Number of Data Points\")\n",
    "plt.title(\"Affected Anatomical Body Part\")\n",
    "plt.tight_layout()\n",
    "plt.grid(color = 'g', linestyle = '--', linewidth = 0.3)\n",
    "#print(f' The plot clearly demonstrate that a significant # of people have a higher chance of getting skin cancer on \n",
    "#       'the back, lower extremity,truck  ')"
   ]
  },
  {
   "cell_type": "code",
   "execution_count": null,
   "id": "df455e07",
   "metadata": {},
   "outputs": [],
   "source": []
  },
  {
   "cell_type": "code",
<<<<<<< HEAD
   "execution_count": 19,
=======
   "execution_count": 11,
>>>>>>> 5ec05ce34279ef2ceee6c5c245ea3e3e4fb85e4b
   "id": "47e2ab54",
   "metadata": {},
   "outputs": [
    {
     "data": {
      "image/png": "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\n",
      "text/plain": [
       "<Figure size 648x360 with 1 Axes>"
      ]
     },
     "metadata": {
      "needs_background": "light"
     },
     "output_type": "display_data"
    },
    {
     "name": "stdout",
     "output_type": "stream",
     "text": [
      " This comparison shows that the chances of having skin cancer inceases with age for all the different dx\n"
     ]
    }
   ],
   "source": [
    "#scatter plot for diagnosis (dx) vs Age for both genders\n",
    "plt.figure(figsize=(9,5))\n",
    "plt.scatter(clean_skin_df[\"dx\"],clean_skin_df[\"age\"],marker='o', edgecolors=\"black\",facecolors=\"skyblue\")\n",
    "plt.title(\"Diagnosis vs. Age\" \" \"\"4/25/2022\")\n",
    "plt.xlabel(\"Diagnosis (DX)\")\n",
    "plt.ylabel(\"Age (Years)\")\n",
    "plt.grid(color = 'g', linestyle = '--', linewidth = 0.3)\n",
    "#plt.savefig('fig1_2022.png')\n",
    "plt.show()\n",
    "print(f' This comparison shows that the chances of having skin cancer inceases with age for all the different dx')"
   ]
  },
  {
   "cell_type": "code",
<<<<<<< HEAD
   "execution_count": 20,
=======
   "execution_count": 12,
>>>>>>> 5ec05ce34279ef2ceee6c5c245ea3e3e4fb85e4b
   "id": "4ef9151e",
   "metadata": {},
   "outputs": [
    {
     "data": {
      "text/html": [
       "<div>\n",
       "<style scoped>\n",
       "    .dataframe tbody tr th:only-of-type {\n",
       "        vertical-align: middle;\n",
       "    }\n",
       "\n",
       "    .dataframe tbody tr th {\n",
       "        vertical-align: top;\n",
       "    }\n",
       "\n",
       "    .dataframe thead th {\n",
       "        text-align: right;\n",
       "    }\n",
       "</style>\n",
       "<table border=\"1\" class=\"dataframe\">\n",
       "  <thead>\n",
       "    <tr style=\"text-align: right;\">\n",
       "      <th></th>\n",
       "      <th>lesion_id</th>\n",
       "      <th>image_id</th>\n",
       "      <th>dx</th>\n",
       "      <th>dx_type</th>\n",
       "      <th>age</th>\n",
       "      <th>sex</th>\n",
       "      <th>localization</th>\n",
       "    </tr>\n",
       "  </thead>\n",
       "  <tbody>\n",
       "    <tr>\n",
       "      <th>0</th>\n",
       "      <td>HAM_0000118</td>\n",
       "      <td>ISIC_0027419</td>\n",
       "      <td>bkl</td>\n",
       "      <td>histo</td>\n",
       "      <td>80.0</td>\n",
       "      <td>male</td>\n",
       "      <td>scalp</td>\n",
       "    </tr>\n",
       "    <tr>\n",
       "      <th>1</th>\n",
       "      <td>HAM_0000118</td>\n",
       "      <td>ISIC_0025030</td>\n",
       "      <td>bkl</td>\n",
       "      <td>histo</td>\n",
       "      <td>80.0</td>\n",
       "      <td>male</td>\n",
       "      <td>scalp</td>\n",
       "    </tr>\n",
       "    <tr>\n",
       "      <th>2</th>\n",
       "      <td>HAM_0002730</td>\n",
       "      <td>ISIC_0026769</td>\n",
       "      <td>bkl</td>\n",
       "      <td>histo</td>\n",
       "      <td>80.0</td>\n",
       "      <td>male</td>\n",
       "      <td>scalp</td>\n",
       "    </tr>\n",
       "    <tr>\n",
       "      <th>3</th>\n",
       "      <td>HAM_0002730</td>\n",
       "      <td>ISIC_0025661</td>\n",
       "      <td>bkl</td>\n",
       "      <td>histo</td>\n",
       "      <td>80.0</td>\n",
       "      <td>male</td>\n",
       "      <td>scalp</td>\n",
       "    </tr>\n",
       "    <tr>\n",
       "      <th>4</th>\n",
       "      <td>HAM_0001466</td>\n",
       "      <td>ISIC_0031633</td>\n",
       "      <td>bkl</td>\n",
       "      <td>histo</td>\n",
       "      <td>75.0</td>\n",
       "      <td>male</td>\n",
       "      <td>ear</td>\n",
       "    </tr>\n",
       "    <tr>\n",
       "      <th>...</th>\n",
       "      <td>...</td>\n",
       "      <td>...</td>\n",
       "      <td>...</td>\n",
       "      <td>...</td>\n",
       "      <td>...</td>\n",
       "      <td>...</td>\n",
       "      <td>...</td>\n",
       "    </tr>\n",
       "    <tr>\n",
       "      <th>1092</th>\n",
       "      <td>HAM_0001838</td>\n",
       "      <td>ISIC_0028797</td>\n",
       "      <td>bkl</td>\n",
       "      <td>consensus</td>\n",
       "      <td>75.0</td>\n",
       "      <td>male</td>\n",
       "      <td>trunk</td>\n",
       "    </tr>\n",
       "    <tr>\n",
       "      <th>1093</th>\n",
       "      <td>HAM_0005874</td>\n",
       "      <td>ISIC_0027326</td>\n",
       "      <td>bkl</td>\n",
       "      <td>consensus</td>\n",
       "      <td>75.0</td>\n",
       "      <td>male</td>\n",
       "      <td>abdomen</td>\n",
       "    </tr>\n",
       "    <tr>\n",
       "      <th>1094</th>\n",
       "      <td>HAM_0001223</td>\n",
       "      <td>ISIC_0030789</td>\n",
       "      <td>bkl</td>\n",
       "      <td>consensus</td>\n",
       "      <td>75.0</td>\n",
       "      <td>male</td>\n",
       "      <td>trunk</td>\n",
       "    </tr>\n",
       "    <tr>\n",
       "      <th>3326</th>\n",
       "      <td>HAM_0002276</td>\n",
       "      <td>ISIC_0025366</td>\n",
       "      <td>bkl</td>\n",
       "      <td>consensus</td>\n",
       "      <td>50.0</td>\n",
       "      <td>female</td>\n",
       "      <td>trunk</td>\n",
       "    </tr>\n",
       "    <tr>\n",
       "      <th>7100</th>\n",
       "      <td>HAM_0006159</td>\n",
       "      <td>ISIC_0028977</td>\n",
       "      <td>bkl</td>\n",
       "      <td>consensus</td>\n",
       "      <td>50.0</td>\n",
       "      <td>female</td>\n",
       "      <td>upper extremity</td>\n",
       "    </tr>\n",
       "  </tbody>\n",
       "</table>\n",
       "<p>1076 rows × 7 columns</p>\n",
       "</div>"
      ],
      "text/plain": [
       "        lesion_id      image_id   dx    dx_type   age     sex     localization\n",
       "0     HAM_0000118  ISIC_0027419  bkl      histo  80.0    male            scalp\n",
       "1     HAM_0000118  ISIC_0025030  bkl      histo  80.0    male            scalp\n",
       "2     HAM_0002730  ISIC_0026769  bkl      histo  80.0    male            scalp\n",
       "3     HAM_0002730  ISIC_0025661  bkl      histo  80.0    male            scalp\n",
       "4     HAM_0001466  ISIC_0031633  bkl      histo  75.0    male              ear\n",
       "...           ...           ...  ...        ...   ...     ...              ...\n",
       "1092  HAM_0001838  ISIC_0028797  bkl  consensus  75.0    male            trunk\n",
       "1093  HAM_0005874  ISIC_0027326  bkl  consensus  75.0    male          abdomen\n",
       "1094  HAM_0001223  ISIC_0030789  bkl  consensus  75.0    male            trunk\n",
       "3326  HAM_0002276  ISIC_0025366  bkl  consensus  50.0  female            trunk\n",
       "7100  HAM_0006159  ISIC_0028977  bkl  consensus  50.0  female  upper extremity\n",
       "\n",
       "[1076 rows x 7 columns]"
      ]
     },
<<<<<<< HEAD
     "execution_count": 20,
=======
     "execution_count": 12,
>>>>>>> 5ec05ce34279ef2ceee6c5c245ea3e3e4fb85e4b
     "metadata": {},
     "output_type": "execute_result"
    }
   ],
   "source": [
    "#create a male only dataframe\n",
    "df_male = clean_skin_df.loc[clean_skin_df['sex'] == 'male']\n",
    "df_dx = clean_skin_df.loc[clean_skin_df['dx'].values == 'bkl']\n",
    "#df_male.head()\n",
    "df_dx\n",
    "# df['M'] = df.loc[df['gender'] == 'E', 'gender']"
   ]
  },
  {
   "cell_type": "code",
<<<<<<< HEAD
   "execution_count": 21,
=======
   "execution_count": 13,
>>>>>>> 5ec05ce34279ef2ceee6c5c245ea3e3e4fb85e4b
   "id": "ee00e536",
   "metadata": {},
   "outputs": [
    {
     "data": {
      "image/png": "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\n",
      "text/plain": [
       "<Figure size 432x288 with 1 Axes>"
      ]
     },
     "metadata": {
      "needs_background": "light"
     },
     "output_type": "display_data"
    }
   ],
   "source": [
    "\n",
    "# Create a scatter plot which compares average tumor volume vs. mouse weight for the Capomulin regimen\n",
    "\n",
    "#Using the dataframe average_tumor-volume create a scatter plot for weight and average tumor volume\n",
    "\n",
    "df_dx.plot(kind=\"scatter\", x=\"age\", y=\"dx\", figsize=(6,4),\n",
    "                           \n",
    "              title=\"Average Tumor Volume vs. mouse weight)\"  )\n",
    "plt.show()"
   ]
  },
  {
   "cell_type": "code",
   "execution_count": null,
   "id": "16c45b95",
   "metadata": {},
   "outputs": [],
   "source": []
  },
  {
   "cell_type": "code",
   "execution_count": null,
   "id": "ce519fe4",
   "metadata": {},
   "outputs": [],
   "source": []
  }
 ],
 "metadata": {
  "kernelspec": {
   "display_name": "Python 3 (ipykernel)",
   "language": "python",
   "name": "python3"
  },
  "language_info": {
   "codemirror_mode": {
    "name": "ipython",
    "version": 3
   },
   "file_extension": ".py",
   "mimetype": "text/x-python",
   "name": "python",
   "nbconvert_exporter": "python",
   "pygments_lexer": "ipython3",
   "version": "3.9.7"
  }
 },
 "nbformat": 4,
 "nbformat_minor": 5
}
