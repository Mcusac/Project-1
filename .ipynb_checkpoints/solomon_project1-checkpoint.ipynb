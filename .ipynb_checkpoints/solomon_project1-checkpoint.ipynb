{
 "cells": [
  {
   "cell_type": "code",
   "execution_count": 1,
   "id": "0307a6b6",
   "metadata": {},
   "outputs": [],
   "source": [
    "# import Dependencies and Setup\n",
    "import matplotlib.pyplot as plt\n",
    "import pandas as pd\n",
    "import numpy as np\n",
    "import requests\n",
    "import scipy.stats as st\n",
    "import time\n",
    "from scipy.stats import linregress\n"
   ]
  },
  {
   "cell_type": "code",
   "execution_count": 2,
   "id": "788289b9",
   "metadata": {},
   "outputs": [
    {
     "data": {
      "text/plain": [
       "lesion_id       10015\n",
       "image_id        10015\n",
       "dx              10015\n",
       "dx_type         10015\n",
       "age              9958\n",
       "sex             10015\n",
       "localization    10015\n",
       "dtype: int64"
      ]
     },
     "execution_count": 2,
     "metadata": {},
     "output_type": "execute_result"
    }
   ],
   "source": [
    "#import and read csv file\n",
    "\n",
    "skin_cancer_df = pd.read_csv('HAM10000_metadata.csv')\n",
    "skin_cancer_df.count()"
   ]
  },
  {
   "cell_type": "code",
   "execution_count": 63,
   "id": "f785bf78",
   "metadata": {},
   "outputs": [
    {
     "data": {
      "text/plain": [
       "lesion_id       9958\n",
       "image_id        9958\n",
       "dx              9958\n",
       "dx_type         9958\n",
       "age             9958\n",
       "sex             9958\n",
       "localization    9958\n",
       "dtype: int64"
      ]
     },
     "execution_count": 63,
     "metadata": {},
     "output_type": "execute_result"
    }
   ],
   "source": [
    "#clean df\n",
    "#drop nan value and drop unknown\n",
    "clean_skin_df = skin_cancer_df.dropna(axis= 'rows')\n",
    "#clean_skin_df = clean_skin_df.loc[clean_skin_df['sex'] != 'unknown']\n",
    "clean_skin_df.count()"
   ]
  },
  {
   "cell_type": "code",
   "execution_count": 64,
   "id": "1449644e",
   "metadata": {},
   "outputs": [
    {
     "data": {
      "image/png": "[encoded data removed]",
      "text/plain": [
       "<Figure size 432x288 with 1 Axes>"
      ]
     },
     "metadata": {
      "needs_background": "light"
     },
     "output_type": "display_data"
    }
   ],
   "source": [
    "#bar plot to visualize the relationship of the data in reference to sex(gender)\n",
    "clean_skin_df['sex'].value_counts().plot(kind='bar')\n",
    "plt.xlabel(\"Gender('sex')\")\n",
    "plt.ylabel(\"Number of Data Points\", size=15)\n",
    "plt.title(\"Gender per Data Point\")\n",
    "\n",
    "plt.show()"
   ]
  },
  {
   "cell_type": "code",
   "execution_count": 65,
   "id": "db18501b",
   "metadata": {},
   "outputs": [
    {
     "data": {
      "text/plain": [
       "lesion_id       9948\n",
       "image_id        9948\n",
       "dx              9948\n",
       "dx_type         9948\n",
       "age             9948\n",
       "sex             9948\n",
       "localization    9948\n",
       "dtype: int64"
      ]
     },
     "execution_count": 65,
     "metadata": {},
     "output_type": "execute_result"
    }
   ],
   "source": [
    "# Create a clean dataframe by removing unkown gender from the dataframe\n",
    "# Comparing the previous clean_df gender(sex) had 10 unknowns.\n",
    "clean_skin_df = skin_cancer_df.dropna(axis= 'rows')\n",
    "clean_skin_df = clean_skin_df.loc[clean_skin_df['sex'] != 'unknown']\n",
    "clean_skin_df.count()"
   ]
  },
  {
   "cell_type": "code",
   "execution_count": 66,
   "id": "7da0583c",
   "metadata": {},
   "outputs": [
    {
     "name": "stdout",
     "output_type": "stream",
     "text": [
      "nv       6650\n",
      "mel      1111\n",
      "bkl      1089\n",
      "bcc       514\n",
      "akiec     327\n",
      "vasc      142\n",
      "df        115\n",
      "Name: dx, dtype: int64\n"
     ]
    }
   ],
   "source": [
    "#create new dataframe from clean df for dignosis using dx column values\n",
    "dx_clean_df = pd.DataFrame(clean_skin_df, columns = ['dx'])\n",
    "dx_clean_df = dx_clean_df['dx'].value_counts()\n",
    "print(dx_clean_df)"
   ]
  },
  {
   "cell_type": "code",
   "execution_count": 67,
   "id": "b11ff66a",
   "metadata": {},
   "outputs": [
    {
     "data": {
      "image/png": "[encoded data removed]",
      "text/plain": [
       "<Figure size 540x288 with 1 Axes>"
      ]
     },
     "metadata": {
      "needs_background": "light"
     },
     "output_type": "display_data"
    }
   ],
   "source": [
    "dx_clean_df.plot(kind=\"bar\",figsize=(7.5,4))\n",
    "plt.xlabel(\"Diagnosis ('dx')\")\n",
    "plt.ylabel(\"Number of Data Points\")\n",
    "plt.title(\"Diagnosis per Cell Type\")\n",
    "plt.tight_layout()"
   ]
  },
  {
   "cell_type": "code",
   "execution_count": 68,
   "id": "54d695fe",
   "metadata": {},
   "outputs": [
    {
     "name": "stdout",
     "output_type": "stream",
     "text": [
      "back               2190\n",
      "lower extremity    2077\n",
      "trunk              1400\n",
      "upper extremity    1116\n",
      "abdomen            1019\n",
      "face                743\n",
      "chest               405\n",
      "foot                314\n",
      "unknown             187\n",
      "neck                168\n",
      "scalp               128\n",
      "hand                 90\n",
      "ear                  56\n",
      "genital              48\n",
      "acral                 7\n",
      "Name: localization, dtype: int64\n"
     ]
    }
   ],
   "source": [
    "#create another dataframe from clean df for affected bogy anatomy using the localization column values\n",
    "loca_clean_df = pd.DataFrame(clean_skin_df, columns = ['localization'])\n",
    "\n",
    "loca_clean_df = loca_clean_df['localization'].value_counts()\n",
    "print(loca_clean_df)"
   ]
  },
  {
   "cell_type": "code",
   "execution_count": 69,
   "id": "cab8cece",
   "metadata": {},
   "outputs": [
    {
     "data": {
      "image/png": "[encoded data removed]",
      "text/plain": [
       "<Figure size 504x360 with 1 Axes>"
      ]
     },
     "metadata": {
      "needs_background": "light"
     },
     "output_type": "display_data"
    }
   ],
   "source": [
    "#bar plot for localization\n",
    "loca_clean_df.plot(kind=\"bar\",figsize=(7,5))\n",
    "plt.xlabel(\"Area of Malignant Localization\")\n",
    "plt.ylabel(\"Number of Data Points\")\n",
    "plt.title(\"Affected Anatomical Body Part\")\n",
    "plt.tight_layout()"
   ]
  },
  {
   "cell_type": "code",
   "execution_count": null,
   "id": "1fd1bfcd",
   "metadata": {},
   "outputs": [],
   "source": []
  },
  {
   "cell_type": "code",
   "execution_count": null,
   "id": "313d9dd7",
   "metadata": {},
   "outputs": [],
   "source": []
  }
 ],
 "metadata": {
  "kernelspec": {
   "display_name": "Python 3 (ipykernel)",
   "language": "python",
   "name": "python3"
  },
  "language_info": {
   "codemirror_mode": {
    "name": "ipython",
    "version": 3
   },
   "file_extension": ".py",
   "mimetype": "text/x-python",
   "name": "python",
   "nbconvert_exporter": "python",
   "pygments_lexer": "ipython3",
   "version": "3.9.7"
  }
 },
 "nbformat": 4,
 "nbformat_minor": 5
}
