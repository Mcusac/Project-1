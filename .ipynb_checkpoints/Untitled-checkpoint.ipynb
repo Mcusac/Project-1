{
 "cells": [
  {
   "cell_type": "code",
   "execution_count": 1,
   "id": "0307a6b6",
   "metadata": {},
   "outputs": [],
   "source": [
    "# import Dependencies and Setup\n",
    "import matplotlib.pyplot as plt\n",
    "import pandas as pd\n",
    "import numpy as np\n",
    "import requests\n",
    "import time\n",
    "from scipy.stats import linregress"
   ]
  },
  {
   "cell_type": "code",
   "execution_count": 8,
   "id": "788289b9",
   "metadata": {},
   "outputs": [
    {
     "data": {
      "text/plain": [
       "lesion_id       10015\n",
       "image_id        10015\n",
       "dx              10015\n",
       "dx_type         10015\n",
       "age              9958\n",
       "sex             10015\n",
       "localization    10015\n",
       "dtype: int64"
      ]
     },
     "execution_count": 8,
     "metadata": {},
     "output_type": "execute_result"
    }
   ],
   "source": [
    "#import and read csv file\n",
    "\n",
    "skin_cancer_df = pd.read_csv('HAM10000_metadata.csv')\n",
    "skin_cancer_df.count()"
   ]
  },
  {
   "cell_type": "code",
   "execution_count": 9,
   "id": "f785bf78",
   "metadata": {},
   "outputs": [
    {
     "data": {
      "text/plain": [
       "lesion_id       9948\n",
       "image_id        9948\n",
       "dx              9948\n",
       "dx_type         9948\n",
       "age             9948\n",
       "sex             9948\n",
       "localization    9948\n",
       "dtype: int64"
      ]
     },
     "execution_count": 9,
     "metadata": {},
     "output_type": "execute_result"
    }
   ],
   "source": [
    "#clean df\n",
    "#drop nan value and drop unknown\n",
    "clean_skin_df = skin_cancer_df.dropna(axis= 'rows')\n",
    "clean_skin_df = clean_skin_df.loc[clean_skin_df['sex'] != 'unknown']\n",
    "clean_skin_df.count()"
   ]
  },
  {
   "cell_type": "code",
   "execution_count": null,
   "id": "1449644e",
   "metadata": {},
   "outputs": [],
   "source": []
  }
 ],
 "metadata": {
  "kernelspec": {
   "display_name": "Python 3 (ipykernel)",
   "language": "python",
   "name": "python3"
  },
  "language_info": {
   "codemirror_mode": {
    "name": "ipython",
    "version": 3
   },
   "file_extension": ".py",
   "mimetype": "text/x-python",
   "name": "python",
   "nbconvert_exporter": "python",
   "pygments_lexer": "ipython3",
   "version": "3.9.7"
  }
 },
 "nbformat": 4,
 "nbformat_minor": 5
}
