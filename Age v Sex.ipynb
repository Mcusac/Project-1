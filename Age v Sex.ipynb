{
 "cells": [
  {
   "cell_type": "code",
   "execution_count": 1,
   "id": "c3aa0c5c",
   "metadata": {},
   "outputs": [],
   "source": [
    "# Dependencies and Setup\n",
    "import matplotlib.pyplot as plt\n",
    "import pandas as pd\n",
    "import numpy as np\n",
    "import requests\n",
    "import time\n",
    "from scipy.stats import linregress\n"
   ]
  },
  {
   "cell_type": "code",
   "execution_count": 2,
   "id": "ac0e41cd",
   "metadata": {
    "scrolled": true
   },
   "outputs": [
    {
     "data": {
      "text/html": [
       "<div>\n",
       "<style scoped>\n",
       "    .dataframe tbody tr th:only-of-type {\n",
       "        vertical-align: middle;\n",
       "    }\n",
       "\n",
       "    .dataframe tbody tr th {\n",
       "        vertical-align: top;\n",
       "    }\n",
       "\n",
       "    .dataframe thead th {\n",
       "        text-align: right;\n",
       "    }\n",
       "</style>\n",
       "<table border=\"1\" class=\"dataframe\">\n",
       "  <thead>\n",
       "    <tr style=\"text-align: right;\">\n",
       "      <th></th>\n",
       "      <th>lesion_id</th>\n",
       "      <th>image_id</th>\n",
       "      <th>dx</th>\n",
       "      <th>dx_type</th>\n",
       "      <th>age</th>\n",
       "      <th>sex</th>\n",
       "      <th>localization</th>\n",
       "    </tr>\n",
       "  </thead>\n",
       "  <tbody>\n",
       "    <tr>\n",
       "      <th>0</th>\n",
       "      <td>HAM_0000118</td>\n",
       "      <td>ISIC_0027419</td>\n",
       "      <td>bkl</td>\n",
       "      <td>histo</td>\n",
       "      <td>80.0</td>\n",
       "      <td>male</td>\n",
       "      <td>scalp</td>\n",
       "    </tr>\n",
       "    <tr>\n",
       "      <th>1</th>\n",
       "      <td>HAM_0000118</td>\n",
       "      <td>ISIC_0025030</td>\n",
       "      <td>bkl</td>\n",
       "      <td>histo</td>\n",
       "      <td>80.0</td>\n",
       "      <td>male</td>\n",
       "      <td>scalp</td>\n",
       "    </tr>\n",
       "    <tr>\n",
       "      <th>2</th>\n",
       "      <td>HAM_0002730</td>\n",
       "      <td>ISIC_0026769</td>\n",
       "      <td>bkl</td>\n",
       "      <td>histo</td>\n",
       "      <td>80.0</td>\n",
       "      <td>male</td>\n",
       "      <td>scalp</td>\n",
       "    </tr>\n",
       "    <tr>\n",
       "      <th>3</th>\n",
       "      <td>HAM_0002730</td>\n",
       "      <td>ISIC_0025661</td>\n",
       "      <td>bkl</td>\n",
       "      <td>histo</td>\n",
       "      <td>80.0</td>\n",
       "      <td>male</td>\n",
       "      <td>scalp</td>\n",
       "    </tr>\n",
       "    <tr>\n",
       "      <th>4</th>\n",
       "      <td>HAM_0001466</td>\n",
       "      <td>ISIC_0031633</td>\n",
       "      <td>bkl</td>\n",
       "      <td>histo</td>\n",
       "      <td>75.0</td>\n",
       "      <td>male</td>\n",
       "      <td>ear</td>\n",
       "    </tr>\n",
       "  </tbody>\n",
       "</table>\n",
       "</div>"
      ],
      "text/plain": [
       "     lesion_id      image_id   dx dx_type   age   sex localization\n",
       "0  HAM_0000118  ISIC_0027419  bkl   histo  80.0  male        scalp\n",
       "1  HAM_0000118  ISIC_0025030  bkl   histo  80.0  male        scalp\n",
       "2  HAM_0002730  ISIC_0026769  bkl   histo  80.0  male        scalp\n",
       "3  HAM_0002730  ISIC_0025661  bkl   histo  80.0  male        scalp\n",
       "4  HAM_0001466  ISIC_0031633  bkl   histo  75.0  male          ear"
      ]
     },
     "execution_count": 2,
     "metadata": {},
     "output_type": "execute_result"
    }
   ],
   "source": [
    "df = pd.read_csv('HAM10000_metadata.csv')\n",
    "df.head()"
   ]
  },
  {
   "cell_type": "code",
   "execution_count": 3,
   "id": "7d6ba487",
   "metadata": {},
   "outputs": [
    {
     "data": {
      "text/plain": [
       "lesion_id       10015\n",
       "image_id        10015\n",
       "dx              10015\n",
       "dx_type         10015\n",
       "age              9958\n",
       "sex             10015\n",
       "localization    10015\n",
       "dtype: int64"
      ]
     },
     "execution_count": 3,
     "metadata": {},
     "output_type": "execute_result"
    }
   ],
   "source": [
    "df.count()"
   ]
  },
  {
   "cell_type": "code",
   "execution_count": 4,
   "id": "235334c4",
   "metadata": {},
   "outputs": [
    {
     "data": {
      "text/plain": [
       "lesion_id       9958\n",
       "image_id        9958\n",
       "dx              9958\n",
       "dx_type         9958\n",
       "age             9958\n",
       "sex             9958\n",
       "localization    9958\n",
       "dtype: int64"
      ]
     },
     "execution_count": 4,
     "metadata": {},
     "output_type": "execute_result"
    }
   ],
   "source": [
    "clean_df = df.dropna(axis= 'rows')\n",
    "clean_df.count()"
   ]
  },
  {
   "cell_type": "code",
   "execution_count": 5,
   "id": "3c0369d7",
   "metadata": {},
   "outputs": [
    {
     "data": {
      "text/plain": [
       "lesion_id       9948\n",
       "image_id        9948\n",
       "dx              9948\n",
       "dx_type         9948\n",
       "age             9948\n",
       "sex             9948\n",
       "localization    9948\n",
       "dtype: int64"
      ]
     },
     "execution_count": 5,
     "metadata": {},
     "output_type": "execute_result"
    }
   ],
   "source": [
    "clean_df = clean_df.loc[clean_df['sex'] != 'unknown']\n",
    "clean_df.count()"
   ]
  },
  {
   "cell_type": "code",
   "execution_count": 10,
   "id": "72026441",
   "metadata": {},
   "outputs": [
    {
     "data": {
      "text/plain": [
       "nv       6650\n",
       "mel      1111\n",
       "bkl      1089\n",
       "bcc       514\n",
       "akiec     327\n",
       "vasc      142\n",
       "df        115\n",
       "Name: dx, dtype: int64"
      ]
     },
     "execution_count": 10,
     "metadata": {},
     "output_type": "execute_result"
    }
   ],
   "source": [
    "clean_df['dx'].value_counts()"
   ]
  },
  {
   "cell_type": "code",
   "execution_count": 12,
   "id": "d92b1872",
   "metadata": {},
   "outputs": [
    {
     "name": "stdout",
     "output_type": "stream",
     "text": [
      "       lesion_id  image_id  dx_type   age   sex  localization\n",
      "dx                                                           \n",
      "akiec        327       327      327   327   327           327\n",
      "bcc          514       514      514   514   514           514\n",
      "bkl         1089      1089     1089  1089  1089          1089\n",
      "df           115       115      115   115   115           115\n",
      "mel         1111      1111     1111  1111  1111          1111\n",
      "nv          6650      6650     6650  6650  6650          6650\n",
      "vasc         142       142      142   142   142           142\n",
      "0     327\n",
      "1     514\n",
      "2    1089\n",
      "3     115\n",
      "4    1111\n",
      "5    6650\n",
      "6     142\n",
      "Name: age, dtype: int64\n"
     ]
    },
    {
     "data": {
      "text/plain": [
       "([<matplotlib.patches.Wedge at 0x277759aee20>,\n",
       "  <matplotlib.patches.Wedge at 0x277759be550>,\n",
       "  <matplotlib.patches.Wedge at 0x277759bea00>,\n",
       "  <matplotlib.patches.Wedge at 0x277759beee0>,\n",
       "  <matplotlib.patches.Wedge at 0x277759c8400>,\n",
       "  <matplotlib.patches.Wedge at 0x277759c88e0>,\n",
       "  <matplotlib.patches.Wedge at 0x277759c8dc0>],\n",
       " [Text(1.0941399620416143, 0.11339199029726495, 'akiec'),\n",
       "  Text(1.0260144340895332, 0.3966035565144813, 'bcc'),\n",
       "  Text(0.705024113018027, 0.8443583362904309, 'bkl'),\n",
       "  Text(0.34130596609162916, 1.0457103984900695, 'df'),\n",
       "  Text(-0.07878811304506886, 1.0971747505492448, 'mel'),\n",
       "  Text(-0.6382168443540546, -0.895923690714088, 'nv'),\n",
       "  Text(1.0988941632322458, -0.04931143897822021, 'vasc')])"
      ]
     },
     "execution_count": 12,
     "metadata": {},
     "output_type": "execute_result"
    },
    {
     "data": {
      "image/png": "[encoded data removed]",
      "text/plain": [
       "<Figure size 432x288 with 1 Axes>"
      ]
     },
     "metadata": {},
     "output_type": "display_data"
    }
   ],
   "source": [
    "plt.title('Age vs. Diagnosis')\n",
    "plt.xlabel('Age')\n",
    "plt.ylabel('Diagnosis')\n",
    "\n",
    "\n",
    "#bins = [0, 39.9 ,49.9, 59.9, 69.9, 79.9, 89.9, 100]\n",
    "#group_names = ['Under Forty', 'Forties', 'Fifties', 'Sixties', 'Seventies', 'Eighties', 'Over 90']\n",
    "\n",
    "#clean_df['Age Groups'] = pd.cut(clean_df['age'], bins, labels=group_names, include_lowest=True)\n",
    "#print(clean_df)\n",
    "\n",
    "clean_df2 = clean_df.groupby('dx').count()\n",
    "print(clean_df2)\n",
    "\n",
    "clean_df2 = clean_df2.reset_index()\n",
    "\n",
    "age = clean_df2['age']\n",
    "sex = clean_df['sex']\n",
    "#age_groups = clean_df['Age Groups']\n",
    "\n",
    "x1 = sex\n",
    "y1 = age\n",
    "print(y1)\n",
    "\n",
    "plt.pie(y1,labels=['akiec', 'bcc', 'bkl', 'df', 'mel', 'nv', 'vasc'])"
   ]
  },
  {
   "cell_type": "code",
   "execution_count": null,
   "id": "ecb549e8",
   "metadata": {},
   "outputs": [],
   "source": []
  }
 ],
 "metadata": {
  "kernelspec": {
   "display_name": "Python 3 (ipykernel)",
   "language": "python",
   "name": "python3"
  },
  "language_info": {
   "codemirror_mode": {
    "name": "ipython",
    "version": 3
   },
   "file_extension": ".py",
   "mimetype": "text/x-python",
   "name": "python",
   "nbconvert_exporter": "python",
   "pygments_lexer": "ipython3",
   "version": "3.9.7"
  }
 },
 "nbformat": 4,
 "nbformat_minor": 5
}
